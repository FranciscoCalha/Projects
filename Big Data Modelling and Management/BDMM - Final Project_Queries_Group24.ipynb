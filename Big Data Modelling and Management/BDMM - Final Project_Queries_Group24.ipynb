{
 "cells": [
  {
   "cell_type": "markdown",
   "metadata": {},
   "source": [
    "# Big Data Modelling and Management 2022"
   ]
  },
  {
   "cell_type": "markdown",
   "metadata": {},
   "source": [
    "Group number: 24\n",
    "\n",
    "Students (name : student number):\n",
    "\n",
    "\n",
    "1. Ana Luís : 20210671\n",
    "\n",
    "2. Carolina Machado : 20210676 \n",
    "\n",
    "3. Francisco Calha : 20210673 \n",
    "\n",
    "4. Sara Arana : 20210672\n"
   ]
  },
  {
   "cell_type": "markdown",
   "metadata": {},
   "source": [
    "## 🚚 BDMM Second Homework Assignment 🚚 \n",
    "\n",
    "_The Wide World Importers (WWI) is a wholesales novelty goods importer and distributor operating from the San Francisco bay area. In this assignment we will be working with their database._ \n",
    "You can get more information and details about the WWI database in the following link: https://docs.microsoft.com/en-us/sql/samples/wide-world-importers-what-is?view=sql-server-ver15\n",
    "\n",
    "The focus of the second assignment is modelling. We will use the World Wide Importers database and convert it to a document-based database. To that end, we will be leveraging concepts like data denormalization, indices, and mongodb design patterns. \n",
    "\n",
    "More information on the extended datamodel to be found here: </br>  \n",
    "https://docs.microsoft.com/en-us/sql/samples/wide-world-importers-oltp-database-catalog?view=sql-server-ver15"
   ]
  },
  {
   "cell_type": "markdown",
   "metadata": {},
   "source": [
    "## Problem Description\n",
    "\n",
    "Your team has just arrived at WWI (a leading company in logistics). Welcome!   <br>\n",
    "Even though business is thriving, the IT department is going through a bad time.   <br>\n",
    "Digitalization was never a priority for the company and now the company operational and analytical requirements are starting to grow beyond the capabilities of their existing data architecture.   <br>\n",
    "\n",
    "WWI data are spread accross different systems, but we've already managed to pull them all into a mongo dump file. This data file is an exact dump of the SQL data so includes all the same structure, the SQL tables become collections and the rows become documents. This means all the original SQL keys are included in the data.<br>\n",
    "Currently, the costs to develop the necessary queries to collect data to answer questions asked by the different departments are too high. <br>\n",
    "\n",
    "Management concluded it is the right time to revise and revamp the data architecture, in order to speed up operations. \n",
    "\n",
    "In that context, your team was tasked with merging all the company data into a single and coherent Mongo database. <br>\n",
    "It is expected that, with your solution, WWI will have a better understanding of their business and that the different departments will be able to obtain efficiently the answers they need.\n",
    "\n",
    "The WWI team shared with you an ERD of their current datamodel:<br>\n",
    "![datamodel](./WWI.png)"
   ]
  },
  {
   "cell_type": "markdown",
   "metadata": {},
   "source": [
    "**Note** You can open the file WWI.png that is in the same directory as this notebook to see the above image in more detail and zoom in as you need.\n",
    "\n",
    "Addtionally, the WWI team asked you the deliver the following outputs in **4 weeks**:\n",
    "- Understand and model the database in MongoDB.\n",
    "- Setup the database so that it is performs well for the queries they have provided. You should include reasoning in comments for the decisions you make on modelling the database.\n",
    "- Answer the questions (queries) on the data provided.  \n",
    "- Submit the results by following the instructions.  \n",
    "\n",
    "With these deliveries, you will have created a prototype and allows the management to decide whether MongoDB is a good solution that meets their requirements."
   ]
  },
  {
   "cell_type": "markdown",
   "metadata": {},
   "source": [
    "### Design Requirements\n",
    "\n",
    "Note that WWI has the following query requirements for the database.\n",
    "\n",
    "1. The web team needs to know:  \n",
    "    1. Which state province do we have the most suppliers in?  \n",
    "    2. How many people have three or more `OtherLanguage`? \n",
    "    3. Top 10 most common `OtherLanguage` for people records. \n",
    "    4. How many customer records are valid after `November 2015`? \n",
    "    5. What percentage of people records don't have the UserPreferences field? \n",
    "\n",
    "2. The warehouse group needs to know:  \n",
    "    1. What is the average difference in days between OrderDate and ExpectedDeliveryDate for orders sold by (`SalespersonPersonID`) person with the name `Jack Potter`?\n",
    "    2. Which items get ordered the most in bulk (largest average quantity ordered)?  \n",
    "    3. Which two items get ordered together the most?\n",
    "    4. For each customer category which 3 items have the ordered the most?\n",
    "    5. What is the current stock of each stockgroup?\n",
    "\n",
    "3. The CFO needs to know:  \n",
    "    1. What is the monthly total order count for each month?  \n",
    "    2. How many orders are there from the customer `Tailspin Toys (Head Office)`?\n",
    "    3. What are the average monthly sales prices of all goods sold? \n",
    "    4. In each state province what is the average customer credit limit?   \n",
    "    5. What are the yearly expenditures with each supplier (per supplier name)?  \n",
    "\n",
    "4. Partnerships needs to know:  \n",
    "    1. What is the most common payment type?  \n",
    "    2. What percentage of people have their `Title` as `Team Member`?\n",
    "    3. Which supplier of the category `Novelty Goods Supplier` has the most transactions?  \n",
    "    4. What is the highest `CommissionRate` that a person has?\n",
    "\n",
    "5. The marketing team needs to know:  \n",
    "    1. What is the name of the sales person with the largest sum of invoice values in 2013 (person whose customers paid the most money)?\n",
    "    2. Who are the most common `PickedByPersonID` person names for orders done by customer `Adriana Pena`?\n",
    "    3. How many people have in their name the string `Sara`?\n",
    "    5. What are the top 10 most Common Names (Primary or Surnames) of people?\n",
    "\n",
    "Transform the mongo dump file provided with this notebook and model a database following mongodb's best practices. You should adjust the data model to best fit the use cases provided above. Think about collections, embedding, linking, indexing, and the patterns learned in class. Provide justifications for each decision you make. What, if any, are the trade-off's or disadvantages of your approach.\n",
    "\n",
    "Use MongoDB queries to answer the questions on your transformed database.\n",
    "\n",
    "### Deliverables\n",
    "\n",
    "1. Notebook with all DB creation operations and CRUD operations to create the data model. **Important** you should include in comments justification for your decisions on modelling the data.;\n",
    "2. Second notebook with all required queries and answers for the questions, **Important** please indicate with comments the steps in the data model you took to optimise each query;\n"
   ]
  },
  {
   "cell_type": "markdown",
   "metadata": {},
   "source": [
    "# Additional Information\n",
    "\n",
    "## Groups  \n",
    "\n",
    "Students should form groups of at least 4 and at most 5. <br>\n",
    "\n",
    "## Submission  Deadline\n",
    "\n",
    "The submission includes two notebooks with outputs (cells must be run). \n",
    "Please make sure to indicate:\n",
    "1. group number,\n",
    "2. group members with student names and numbers,\n",
    "3. the name of the database that you created. <br>\n",
    "\n",
    "Upload the notebook on moodle before **23:59 on June 22nd**\n",
    "\n",
    "## Evaluation   \n",
    "\n",
    "The second homework assignment counts 40% towards your final mark of the curricular unit. <br>\n",
    "The assignment will be scored from 0 to 20. <br>\n",
    "\n",
    "Each group submission will be evaluated on three components:\n",
    "1. correctness of results;\n",
    "2. simplicity and performance characteristics of the solution;\n",
    "3. justification of decisions.\n",
    "\n",
    "50% -  Database design  \n",
    "50% -  Query results including performance\n",
    "\n",
    "Please note that all code delivered in this assignment will go through plagiarism automated checks. <br>\n",
    "Groups with high similarity levels in their code will undergo investigation.\n"
   ]
  },
  {
   "cell_type": "markdown",
   "metadata": {},
   "source": [
    "### 6 rules of thumb of design process\n",
    "\n",
    "1. Prefer embedding unless there is a compelling reason not to.\n",
    "2. Needing to access an object on its own is a compelling reason not to embed it.\n",
    "3. Arrays should not grow without bound. If there are more than a couple of hundred documents on the “many” side, don’t embed them; if there are more than a few thousand documents on the “many” side, don’t use an array of ObjectID references. High-cardinality arrays are a compelling reason not to embed.\n",
    "4. Don’t be afraid of application-level joins: application-level joins are barely more expensive than server-side joins in a relational database.\n",
    "5. Consider the write/read ratio when denormalizing. A field that will mostly be read and only seldom updated is a good candidate for denormalization: if you denormalize a field that is updated frequently then the extra work of finding and updating all the instances is likely to overwhelm the savings that you get from denormalizing.\n",
    "6. As always with MongoDB, how you model your data depends – entirely – on your particular application’s data access patterns."
   ]
  },
  {
   "cell_type": "code",
   "execution_count": 1,
   "metadata": {},
   "outputs": [],
   "source": [
    "from pymongo import MongoClient\n",
    "from bson.objectid import ObjectId\n",
    "from pprint import pprint\n",
    "from pymongo import TEXT\n",
    "from datetime import datetime\n",
    "\n",
    "host=\"localhost\"\n",
    "port=\"27017\"\n",
    "user=\"AzureDiamond\"\n",
    "password=\"hunter2\"\n",
    "protocol=\"mongodb\"\n",
    "client = MongoClient(f\"{protocol}://{user}:{password}@{host}:{port}\")\n",
    "db = client.WideWorldImporters"
   ]
  },
  {
   "cell_type": "markdown",
   "metadata": {},
   "source": [
    "### 1. The web team needs to know:  "
   ]
  },
  {
   "cell_type": "markdown",
   "metadata": {},
   "source": [
    " A. Which state province do we have the most suppliers in? "
   ]
  },
  {
   "cell_type": "code",
   "execution_count": 2,
   "metadata": {},
   "outputs": [
    {
     "name": "stdout",
     "output_type": "stream",
     "text": [
      "[{'Number of Suppliers': 3, '_id': {'Province Name': ['California']}}]\n"
     ]
    }
   ],
   "source": [
    "query_1 = {\n",
    "    \"$group\": {\n",
    "        \"_id\":{\"Province Name\": \"$PostalStateProvince.StateProvinceName\"},\n",
    "        \"Number of Suppliers\": {\"$sum\": 1}\n",
    "    }\n",
    "}\n",
    "\n",
    "query_2 = {\n",
    "     \"$sort\": {\"Number of Suppliers\": -1}\n",
    " }\n",
    "\n",
    "#Limit = 1, so we get the State Province with the biggest number of suppliers\n",
    "query_3 = {'$limit': 1}\n",
    "\n",
    "pipeline = [query_1, query_2, query_3]\n",
    "\n",
    "r = db.supplier_location_embed.aggregate(pipeline)\n",
    "\n",
    "result = list(r)\n",
    "\n",
    "pprint(result)"
   ]
  },
  {
   "cell_type": "markdown",
   "metadata": {},
   "source": [
    "B. How many people have three or more `OtherLanguage`?"
   ]
  },
  {
   "cell_type": "code",
   "execution_count": 3,
   "metadata": {},
   "outputs": [
    {
     "name": "stdout",
     "output_type": "stream",
     "text": [
      "The number of people that have three or more \"OtherLanguages\" is: 4.\n"
     ]
    }
   ],
   "source": [
    "query_1 = {'$unwind': '$OtherLanguages'}\n",
    "\n",
    "query_2 = {\n",
    "    \"$group\": {\n",
    "        \"_id\": \"$PersonID\",\n",
    "        \"CountLanguages\": {\"$sum\": 1}\n",
    "    }\n",
    "}\n",
    "\n",
    "query_3 = {\n",
    "    \"$match\": {\n",
    "        \"CountLanguages\": {'$gte': 3}\n",
    "    }\n",
    "}\n",
    "\n",
    "pipeline = [query_1, query_2, query_3]\n",
    "\n",
    "r = db.referenced_people.aggregate(pipeline)\n",
    "\n",
    "result = len(list(r))\n",
    "\n",
    "print('The number of people that have three or more \"OtherLanguages\" is: ' + str(result) + '.')"
   ]
  },
  {
   "cell_type": "markdown",
   "metadata": {},
   "source": [
    " C. Top 10 most common `OtherLanguage` for people records. "
   ]
  },
  {
   "cell_type": "code",
   "execution_count": 4,
   "metadata": {},
   "outputs": [
    {
     "name": "stdout",
     "output_type": "stream",
     "text": [
      "[{'Count': 3, '_id': 'Greek'},\n",
      " {'Count': 3, '_id': 'Finnish'},\n",
      " {'Count': 3, '_id': 'Dutch'},\n",
      " {'Count': 2, '_id': 'Slovak'},\n",
      " {'Count': 2, '_id': 'Arabic'},\n",
      " {'Count': 2, '_id': 'Romanian'},\n",
      " {'Count': 2, '_id': 'Polish'},\n",
      " {'Count': 2, '_id': 'Croatian'},\n",
      " {'Count': 2, '_id': 'Lithuanian'},\n",
      " {'Count': 1, '_id': 'Slovenian'}]\n"
     ]
    }
   ],
   "source": [
    "query_1 = {'$unwind': '$OtherLanguages'}\n",
    "\n",
    "query_2 = {\n",
    "    \"$group\": {\n",
    "        \"_id\": \"$OtherLanguages\",\n",
    "        \"Count\": {\"$sum\": 1}\n",
    "    }\n",
    "}\n",
    "\n",
    "query_3 = {\n",
    "    \"$sort\": {\"Count\": -1}\n",
    "}\n",
    "\n",
    "#Limit = 10 so we get the top 10 most common languages\n",
    "query_4 = {\n",
    "    \"$limit\": 10\n",
    "}\n",
    "\n",
    "pipeline = [query_1, query_2, query_3, query_4]\n",
    "\n",
    "r = db.referenced_people.aggregate(pipeline)\n",
    "\n",
    "result = list(r)\n",
    "\n",
    "pprint(result)"
   ]
  },
  {
   "cell_type": "markdown",
   "metadata": {},
   "source": [
    " D. How many customer records are valid after `November 2015`? "
   ]
  },
  {
   "cell_type": "code",
   "execution_count": 5,
   "metadata": {},
   "outputs": [
    {
     "name": "stdout",
     "output_type": "stream",
     "text": [
      "The number of customer records that are valid after November 2015 is: 663.\n"
     ]
    }
   ],
   "source": [
    "query_1 = {\n",
    "    \"$match\": {\"ValidTo\" : {\"$gt\": datetime(2015,11,30)}}\n",
    "}\n",
    "\n",
    "pipeline = [query_1]\n",
    "\n",
    "r = db.customers_embed.aggregate(pipeline)\n",
    "\n",
    "result = len(list(r)) #gives the size of the list of the matched records\n",
    "\n",
    "print('The number of customer records that are valid after November 2015 is: ' + str(result) + '.')"
   ]
  },
  {
   "cell_type": "markdown",
   "metadata": {},
   "source": [
    "E. What percentage of people records don't have the UserPreferences field?"
   ]
  },
  {
   "cell_type": "code",
   "execution_count": 6,
   "metadata": {},
   "outputs": [
    {
     "name": "stdout",
     "output_type": "stream",
     "text": [
      "The percentage of people records that don't have the UserPreferences field is: 83.62%.\n"
     ]
    }
   ],
   "source": [
    "query_1 = {\n",
    "    '$match':\n",
    "        {'UserPreferences': None}}\n",
    "\n",
    "pipeline = [query_1]\n",
    "\n",
    "r = db.referenced_people.aggregate(pipeline)\n",
    "\n",
    "result =  round(len(list(r))/(db.referenced_people.count_documents({}))*100,2) #compute the percentage\n",
    "\n",
    "print(\"The percentage of people records that don't have the UserPreferences field is: \" + str(result) + \"%.\")"
   ]
  },
  {
   "cell_type": "markdown",
   "metadata": {},
   "source": [
    "### 2. The warehouse group needs to know:"
   ]
  },
  {
   "cell_type": "markdown",
   "metadata": {},
   "source": [
    "A. What is the average difference in days between OrderDate and ExpectedDeliveryDate for orders sold by (SalespersonPersonID) person with the name Jack Potter?"
   ]
  },
  {
   "cell_type": "code",
   "execution_count": 7,
   "metadata": {},
   "outputs": [
    {
     "name": "stdout",
     "output_type": "stream",
     "text": [
      "[{'Average Number of Days': 1.4}]\n"
     ]
    }
   ],
   "source": [
    "#We performed this query before we did the lookup to optimize the query performance\n",
    "#Will be faster because we have less records to join in the lookup\n",
    "query_1 = {\n",
    "    '$match': {'FullName': 'Jack Potter'}\n",
    "        }\n",
    "\n",
    "query_2 = {\n",
    "        \"$lookup\":{\n",
    "           \"from\": \"referenced_orders\",\n",
    "           \"localField\": \"PersonID\",\n",
    "           \"foreignField\": \"SalespersonPersonID\",\n",
    "           \"as\": \"Order\"\n",
    "        }\n",
    "    }\n",
    "\n",
    "query_3 = {\"$unwind\" : \"$Order\"}\n",
    "\n",
    "#Group by '_id':0, so we can access all the records \n",
    "query_4 = {\n",
    "         '$group':\n",
    "             {   '_id': 0,\n",
    "                 'averageTime':\n",
    "                    {'$avg':\n",
    "                          {'$dateDiff':\n",
    "                                {   'startDate': '$Order.OrderDate',\n",
    "                                    'endDate': '$Order.ExpectedDeliveryDate',\n",
    "                                    'unit': \"day\"}\n",
    "                           }\n",
    "                       }\n",
    "                   }\n",
    "                }\n",
    "\n",
    "query_5 = { '$project': { '_id': 0, 'Average Number of Days' : { '$trunc': [ \"$averageTime\", 1 ] } } }\n",
    "\n",
    "pipeline = [query_1, query_2, query_3, query_4, query_5]\n",
    "\n",
    "r = db.referenced_people.aggregate(pipeline)\n",
    "\n",
    "result = list(r)\n",
    "\n",
    "pprint(result)"
   ]
  },
  {
   "cell_type": "markdown",
   "metadata": {},
   "source": [
    "B. Which items get ordered the most in bulk (largest average quantity ordered)?"
   ]
  },
  {
   "cell_type": "code",
   "execution_count": 8,
   "metadata": {},
   "outputs": [
    {
     "name": "stdout",
     "output_type": "stream",
     "text": [
      "[{'Average': 199.35,\n",
      "  '_id': {'Stock Item Name': 'Black and orange fragile despatch tape '\n",
      "                             '48mmx75m'}}]\n"
     ]
    }
   ],
   "source": [
    "#For this particular query, we only need the StockItemID (to join orderlines)\n",
    "#and StockItemName (to print the result)\n",
    "query_1 = {\n",
    "    '$project': {\n",
    "        'StockItemID': 1,\n",
    "        'StockItemName': 1\n",
    "    }\n",
    "}\n",
    "\n",
    "query_2 = {\n",
    "        \"$lookup\":{\n",
    "           \"from\": \"referenced_orderlines\",\n",
    "           \"localField\": \"StockItemID\",\n",
    "           \"foreignField\": \"StockItemID\",\n",
    "           \"as\": \"Order\"\n",
    "        }\n",
    "    }\n",
    "\n",
    "query_3 = {'$unwind': '$Order'}\n",
    "\n",
    "query_4  = { \"$group\": {\n",
    "             \"_id\": {'Stock Item Name': \"$StockItemName\"},\n",
    "             \"Average\": { \"$avg\": \"$Order.Quantity\" }}}\n",
    "\n",
    "query_5 = {'$sort': {\"Average\": -1}}\n",
    "    \n",
    "#Limit = 1 so we get the most ordered item in bulk\n",
    "query_6 = {'$limit':1}\n",
    "     \n",
    "pipeline = [query_1, query_2, query_3, query_4, query_5, query_6]\n",
    "\n",
    "r = db.stockitems_embed.aggregate(pipeline)\n",
    "\n",
    "result = list(r)\n",
    "\n",
    "pprint(result)"
   ]
  },
  {
   "cell_type": "markdown",
   "metadata": {},
   "source": [
    "C. Which two items get ordered together the most?"
   ]
  },
  {
   "cell_type": "code",
   "execution_count": 9,
   "metadata": {},
   "outputs": [
    {
     "name": "stdout",
     "output_type": "stream",
     "text": [
      "[{'Count': 30,\n",
      "  '_id': ['Animal with big feet slippers (Brown) XL',\n",
      "          'Dinosaur battery-powered slippers (Green) S']},\n",
      " {'Count': 30,\n",
      "  '_id': ['Air cushion film 200mmx200mm 325m',\n",
      "          'Developer joke mug - fun was unexpected at this time (Black)']}]\n"
     ]
    }
   ],
   "source": [
    "#Sorting Description in an ascending order, so that the final results are always the same\n",
    "#It would also worked in a descending order\n",
    "#If we didn't do this step, the results would be always different, because of the order the items \n",
    "#would be pushed into the array\n",
    "query_1 = {'$sort': {'Description':1}}\n",
    "\n",
    "\n",
    "#We checked, and the Description field in orderlines matches the StockItemName in stockitems records\n",
    "query_2 = {\n",
    "    '$group': {\n",
    "      '_id': {'OrderID': \"$OrderID\"},\n",
    "      'Items': {'$push': \"$Description\"}\n",
    "    }\n",
    "  }\n",
    "\n",
    "#For each array Items, creates arrays with only two items without repetition\n",
    "#Each array is sorted in an ascending order by name, that was a consequence of query_1\n",
    "#If we missed that step, cases in which arrays are like [item1, item2] , [item2, item1] would be counted as different\n",
    "query_3 = {'$project': {\n",
    "            'PairsOfItems': {\"$reduce\":\n",
    "                      {'input':{'$range':[0,{'$size':\"$Items\"}]}, \n",
    "                       'initialValue':[], \n",
    "                       'in':{'$concatArrays':[ \n",
    "                             \"$$value\", \n",
    "                             {'$let':{\n",
    "                             'vars':{'i':\"$$this\"},\n",
    "                             'in':{'$map':{\n",
    "                             'input':{'$range':[{'$add':[1,\"$$i\"]},{'$size':\"$Items\"}]},\n",
    "                             'in':[ {'$arrayElemAt':[\"$Items\",\"$$i\"]}, {'$arrayElemAt':[\"$Items\",\"$$this\"]}] }}\n",
    "                                  }}\n",
    "                            ]}\n",
    "                    } } \n",
    "            } }  \n",
    "\n",
    "\n",
    "query_4 = {'$unwind' : '$PairsOfItems'}\n",
    "\n",
    "query_5 = {'$group':{\n",
    "            '_id':\"$PairsOfItems\",\n",
    "            \"Count\": {\"$sum\": 1}\n",
    "           }\n",
    "        }\n",
    "\n",
    "query_6 = {'$sort': {\"Count\": -1}}\n",
    "\n",
    "#Limit = 2 because we have a draw    \n",
    "query_7 = {'$limit':2}  \n",
    "\n",
    "\n",
    "pipeline = [query_1,query_2,query_3,query_4,query_5,query_6,query_7]\n",
    "\n",
    "r = db.referenced_orderlines.aggregate(pipeline)\n",
    "\n",
    "result = list(r)\n",
    "\n",
    "pprint(result)"
   ]
  },
  {
   "cell_type": "markdown",
   "metadata": {},
   "source": [
    "D. For each customer category which 3 items have the ordered the most?"
   ]
  },
  {
   "cell_type": "code",
   "execution_count": 10,
   "metadata": {},
   "outputs": [
    {
     "name": "stdout",
     "output_type": "stream",
     "text": [
      "[{'Top3Items': ['Dinosaur battery-powered slippers (Green) L',\n",
      "                'Halloween skull mask (Gray) L',\n",
      "                'USB food flash drive - sushi roll'],\n",
      "  '_id': {'CustomerCategoryName': 'Novelty Shop'}},\n",
      " {'Top3Items': ['\"The Gu\" red shirt XML tag t-shirt (Black) 6XL',\n",
      "                '\"The Gu\" red shirt XML tag t-shirt (White) 7XL',\n",
      "                'Superhero action jacket (Blue) XXS'],\n",
      "  '_id': {'CustomerCategoryName': 'Supermarket'}},\n",
      " {'Top3Items': ['Alien officer hoodie (Black) 3XL',\n",
      "                'Ride on toy sedan car (Pink) 1/12 scale',\n",
      "                'Black and yellow heavy despatch tape 48mmx100m'],\n",
      "  '_id': {'CustomerCategoryName': 'Computer Store'}},\n",
      " {'Top3Items': ['Red and white urgent despatch tape 48mmx75m',\n",
      "                '\"The Gu\" red shirt XML tag t-shirt (Black) 6XL',\n",
      "                'Alien officer hoodie (Black) 3XL'],\n",
      "  '_id': {'CustomerCategoryName': 'Corporate'}},\n",
      " {'Top3Items': ['\"The Gu\" red shirt XML tag t-shirt (White) 3XS',\n",
      "                '\"The Gu\" red shirt XML tag t-shirt (White) M',\n",
      "                'USB food flash drive - hamburger'],\n",
      "  '_id': {'CustomerCategoryName': 'Gift Store'}}]\n"
     ]
    }
   ],
   "source": [
    "query_1 = {\n",
    "        \"$lookup\":{\n",
    "           \"from\": \"referenced_orderlines\",\n",
    "           \"localField\": \"OrderID\",\n",
    "           \"foreignField\": \"OrderID\",\n",
    "           \"as\": \"Orderline\"\n",
    "        }\n",
    "    }\n",
    "\n",
    "query_2 = {\n",
    "        \"$lookup\":{\n",
    "           \"from\": \"customers_embed\",\n",
    "           \"localField\": \"CustomerID\",\n",
    "           \"foreignField\": \"CustomerID\",\n",
    "           \"as\": \"Customer\"\n",
    "        }\n",
    "    }\n",
    "\n",
    "query_3 = {'$unwind': '$Orderline'}\n",
    "\n",
    "query_4 = {'$unwind': '$Customer'}\n",
    "\n",
    "query_5 = {'$unwind': '$Customer.CustomerCategory'}\n",
    "\n",
    "query_6  = { \"$group\": {\n",
    "        \"_id\": {'CustomerCategoryName':'$Customer.CustomerCategory.CustomerCategoryName', \n",
    "                'Item': '$Orderline.Description'},\n",
    "        \"Count\" : {'$sum' : 1}\n",
    "         }\n",
    "  }\n",
    "\n",
    "\n",
    "query_7 = {'$sort': {'Count': -1}}\n",
    "\n",
    "query_8 = { \"$group\": {\n",
    "            \"_id\": {'CustomerCategoryName': \"$_id.CustomerCategoryName\"},\n",
    "            \"TopItems\": { \"$push\": \"$_id.Item\" }\n",
    "          }\n",
    "        }\n",
    "   \n",
    "#Slicing the array to get the 3 top items\n",
    "#We can do this because of query_7, since the items were pushed to the array by count in a descending order\n",
    "#If we didn't use this, the result wouldn't be accurate\n",
    "query_9 = { \"$project\": { '_id':1,\"Top3Items\": { \"$slice\": [\"$TopItems\", 3] } } }\n",
    "\n",
    "pipeline = [query_1, query_2, query_3, query_4, query_5, query_6, query_7, query_8, query_9]\n",
    "\n",
    "r = db.referenced_orders.aggregate(pipeline)\n",
    "\n",
    "result = list(r)\n",
    "\n",
    "pprint(result)   "
   ]
  },
  {
   "cell_type": "markdown",
   "metadata": {},
   "source": [
    "E. What is the current stock of each stockgroup?"
   ]
  },
  {
   "cell_type": "code",
   "execution_count": 11,
   "metadata": {},
   "outputs": [
    {
     "name": "stdout",
     "output_type": "stream",
     "text": [
      "[{'CurrentStock': 360, '_id': {'StockGroupName': 'Novelty Items'}},\n",
      " {'CurrentStock': 42, '_id': {'StockGroupName': 'Mugs'}},\n",
      " {'CurrentStock': 312, '_id': {'StockGroupName': 'T-Shirts'}},\n",
      " {'CurrentStock': 492, '_id': {'StockGroupName': 'Clothing'}},\n",
      " {'CurrentStock': 14, '_id': {'StockGroupName': 'USB Novelties'}},\n",
      " {'CurrentStock': 21, '_id': {'StockGroupName': 'Toys'}},\n",
      " {'CurrentStock': 378, '_id': {'StockGroupName': 'Computing Novelties'}},\n",
      " {'CurrentStock': 68, '_id': {'StockGroupName': 'Furry Footwear'}},\n",
      " {'CurrentStock': 1010, '_id': {'StockGroupName': 'Packaging Materials'}}]\n"
     ]
    }
   ],
   "source": [
    "query_1 = {'$unwind': '$StockGroup'}\n",
    "\n",
    "\n",
    "query_2  = { \"$group\": {\n",
    "        \"_id\": {'StockGroupName':'$StockGroup.StockGroupName'},\n",
    "        \"CurrentStock\" : {'$sum' : '$QuantityPerOuter'}\n",
    "         }\n",
    "  }\n",
    "\n",
    "    \n",
    "pipeline = [query_1, query_2] \n",
    "\n",
    "r = db.stockitems_embed.aggregate(pipeline)\n",
    "\n",
    "result = list(r)\n",
    "\n",
    "pprint(result)"
   ]
  },
  {
   "cell_type": "markdown",
   "metadata": {},
   "source": [
    "### 3. The CFO needs to know:"
   ]
  },
  {
   "cell_type": "markdown",
   "metadata": {},
   "source": [
    "A. What is the monthly total order count for each month?"
   ]
  },
  {
   "cell_type": "code",
   "execution_count": null,
   "metadata": {},
   "outputs": [],
   "source": [
    "#This question can have two interpretations, either we get the monthly total \n",
    "#order count for each month by year, or we get it for each month without considering the year\n",
    "\n",
    "#We decided to execute the two approaches, since we thought that, in each case, the results would \n",
    "#provide relevant information"
   ]
  },
  {
   "cell_type": "code",
   "execution_count": 12,
   "metadata": {},
   "outputs": [
    {
     "name": "stdout",
     "output_type": "stream",
     "text": [
      "[{'Count': 1674, '_id': {'Month': 1, 'Year': 2013}},\n",
      " {'Count': 1139, '_id': {'Month': 2, 'Year': 2013}},\n",
      " {'Count': 1683, '_id': {'Month': 3, 'Year': 2013}},\n",
      " {'Count': 1696, '_id': {'Month': 4, 'Year': 2013}},\n",
      " {'Count': 1808, '_id': {'Month': 5, 'Year': 2013}},\n",
      " {'Count': 1675, '_id': {'Month': 6, 'Year': 2013}},\n",
      " {'Count': 1886, '_id': {'Month': 7, 'Year': 2013}},\n",
      " {'Count': 1537, '_id': {'Month': 8, 'Year': 2013}},\n",
      " {'Count': 1617, '_id': {'Month': 9, 'Year': 2013}},\n",
      " {'Count': 1618, '_id': {'Month': 10, 'Year': 2013}},\n",
      " {'Count': 1552, '_id': {'Month': 11, 'Year': 2013}},\n",
      " {'Count': 1565, '_id': {'Month': 12, 'Year': 2013}},\n",
      " {'Count': 1791, '_id': {'Month': 1, 'Year': 2014}},\n",
      " {'Count': 1538, '_id': {'Month': 2, 'Year': 2014}},\n",
      " {'Count': 1586, '_id': {'Month': 3, 'Year': 2014}},\n",
      " {'Count': 1739, '_id': {'Month': 4, 'Year': 2014}},\n",
      " {'Count': 1908, '_id': {'Month': 5, 'Year': 2014}},\n",
      " {'Count': 1887, '_id': {'Month': 6, 'Year': 2014}},\n",
      " {'Count': 2008, '_id': {'Month': 7, 'Year': 2014}},\n",
      " {'Count': 1642, '_id': {'Month': 8, 'Year': 2014}},\n",
      " {'Count': 1637, '_id': {'Month': 9, 'Year': 2014}},\n",
      " {'Count': 1921, '_id': {'Month': 10, 'Year': 2014}},\n",
      " {'Count': 1628, '_id': {'Month': 11, 'Year': 2014}},\n",
      " {'Count': 1914, '_id': {'Month': 12, 'Year': 2014}},\n",
      " {'Count': 1830, '_id': {'Month': 1, 'Year': 2015}},\n",
      " {'Count': 1732, '_id': {'Month': 2, 'Year': 2015}},\n",
      " {'Count': 1891, '_id': {'Month': 3, 'Year': 2015}},\n",
      " {'Count': 2111, '_id': {'Month': 4, 'Year': 2015}},\n",
      " {'Count': 1959, '_id': {'Month': 5, 'Year': 2015}},\n",
      " {'Count': 1989, '_id': {'Month': 6, 'Year': 2015}},\n",
      " {'Count': 2273, '_id': {'Month': 7, 'Year': 2015}},\n",
      " {'Count': 1729, '_id': {'Month': 8, 'Year': 2015}},\n",
      " {'Count': 2065, '_id': {'Month': 9, 'Year': 2015}},\n",
      " {'Count': 1965, '_id': {'Month': 10, 'Year': 2015}},\n",
      " {'Count': 1834, '_id': {'Month': 11, 'Year': 2015}},\n",
      " {'Count': 1951, '_id': {'Month': 12, 'Year': 2015}},\n",
      " {'Count': 1944, '_id': {'Month': 1, 'Year': 2016}},\n",
      " {'Count': 1706, '_id': {'Month': 2, 'Year': 2016}},\n",
      " {'Count': 1969, '_id': {'Month': 3, 'Year': 2016}},\n",
      " {'Count': 1951, '_id': {'Month': 4, 'Year': 2016}},\n",
      " {'Count': 2047, '_id': {'Month': 5, 'Year': 2016}}]\n"
     ]
    }
   ],
   "source": [
    "## By Month and Year\n",
    "\n",
    "query_1 = { '$group': \n",
    "               { '_id': \n",
    "                { \n",
    "                  'Year': { '$year': \"$OrderDate\" }, \n",
    "                  'Month': { '$month': \"$OrderDate\" } }, \n",
    "                  'Count': { '$sum': 1 }\n",
    "               }\n",
    "          }\n",
    "\n",
    "query_2 = {\"$sort\":{\"_id\":1}}\n",
    "\n",
    "\n",
    "pipeline = [query_1, query_2] \n",
    "\n",
    "r = db.referenced_orders.aggregate(pipeline)\n",
    "\n",
    "result = list(r)\n",
    "\n",
    "pprint(result)"
   ]
  },
  {
   "cell_type": "code",
   "execution_count": 13,
   "metadata": {},
   "outputs": [
    {
     "name": "stdout",
     "output_type": "stream",
     "text": [
      "[{'Count': 7239, '_id': 1},\n",
      " {'Count': 6115, '_id': 2},\n",
      " {'Count': 7129, '_id': 3},\n",
      " {'Count': 7497, '_id': 4},\n",
      " {'Count': 7722, '_id': 5},\n",
      " {'Count': 5551, '_id': 6},\n",
      " {'Count': 6167, '_id': 7},\n",
      " {'Count': 4908, '_id': 8},\n",
      " {'Count': 5319, '_id': 9},\n",
      " {'Count': 5504, '_id': 10},\n",
      " {'Count': 5014, '_id': 11},\n",
      " {'Count': 5430, '_id': 12}]\n"
     ]
    }
   ],
   "source": [
    "## By Month, in general\n",
    "\n",
    "query_1 = {\n",
    "    \"$group\": {\n",
    "        \"_id\":  { '$month': \"$OrderDate\" },\n",
    "        \"Count\": {\"$sum\": 1}\n",
    "    }\n",
    "}\n",
    "\n",
    "\n",
    "query_2 = {\n",
    "    \"$sort\": {\"_id\": 1}\n",
    "}\n",
    "\n",
    "\n",
    "pipeline = [query_1, query_2] \n",
    "\n",
    "r = db.referenced_orders.aggregate(pipeline)\n",
    "\n",
    "result = list(r)\n",
    "\n",
    "pprint(result)"
   ]
  },
  {
   "cell_type": "markdown",
   "metadata": {},
   "source": [
    "B. How many orders are there from the customer Tailspin Toys (Head Office)?"
   ]
  },
  {
   "cell_type": "code",
   "execution_count": 14,
   "metadata": {},
   "outputs": [
    {
     "name": "stdout",
     "output_type": "stream",
     "text": [
      "The number of orders that are from the customer Tailspin Toys (Head Office) is: 129.\n"
     ]
    }
   ],
   "source": [
    "#We performed query_1 before we did the lookup to optimize the query performance\n",
    "#Will be faster because we have less records to join in the lookup\n",
    "\n",
    "query_1 = {\n",
    "    \"$match\": {\n",
    "        \"CustomerName\": 'Tailspin Toys (Head Office)' }\n",
    "}\n",
    "\n",
    "\n",
    "query_2 = {\n",
    "        \"$lookup\":{\n",
    "           \"from\": \"referenced_orders\",\n",
    "           \"localField\": \"CustomerID\",\n",
    "           \"foreignField\": \"CustomerID\",\n",
    "           \"as\": \"Order\"\n",
    "        }\n",
    "    }\n",
    "\n",
    "query_3 = {'$unwind': '$Order'}\n",
    "\n",
    "query_4 = {\n",
    "    \"$group\": {\n",
    "        \"_id\":  \"$Order.OrderID\",\n",
    "        \"Count\": {\"$sum\": 1}\n",
    "    }\n",
    "}\n",
    "\n",
    "pipeline = [query_1, query_2, query_3,query_4] \n",
    "\n",
    "r = db.customers_embed.aggregate(pipeline)\n",
    "\n",
    "result = len(list(r))\n",
    "\n",
    "print(\"The number of orders that are from the customer Tailspin Toys (Head Office) is: \" + str(result) + \".\")"
   ]
  },
  {
   "cell_type": "markdown",
   "metadata": {},
   "source": [
    "C. What are the average monthly sales prices of all goods sold?"
   ]
  },
  {
   "cell_type": "code",
   "execution_count": null,
   "metadata": {},
   "outputs": [],
   "source": [
    "#Similar to question 3A, here we can also have two interpretations\n",
    "\n",
    "#For the same reasons we mentioned above, we will execute the two approaches"
   ]
  },
  {
   "cell_type": "code",
   "execution_count": 15,
   "metadata": {},
   "outputs": [
    {
     "name": "stdout",
     "output_type": "stream",
     "text": [
      "[{'AverageMonthlySales': 724.26, '_id': {'Month': 1, 'Year': 2013}},\n",
      " {'AverageMonthlySales': 757.18, '_id': {'Month': 2, 'Year': 2013}},\n",
      " {'AverageMonthlySales': 735.95, '_id': {'Month': 3, 'Year': 2013}},\n",
      " {'AverageMonthlySales': 782.03, '_id': {'Month': 4, 'Year': 2013}},\n",
      " {'AverageMonthlySales': 800.63, '_id': {'Month': 5, 'Year': 2013}},\n",
      " {'AverageMonthlySales': 777.46, '_id': {'Month': 6, 'Year': 2013}},\n",
      " {'AverageMonthlySales': 763.69, '_id': {'Month': 7, 'Year': 2013}},\n",
      " {'AverageMonthlySales': 747.29, '_id': {'Month': 8, 'Year': 2013}},\n",
      " {'AverageMonthlySales': 767.99, '_id': {'Month': 9, 'Year': 2013}},\n",
      " {'AverageMonthlySales': 750.31, '_id': {'Month': 10, 'Year': 2013}},\n",
      " {'AverageMonthlySales': 770.58, '_id': {'Month': 11, 'Year': 2013}},\n",
      " {'AverageMonthlySales': 750.72, '_id': {'Month': 12, 'Year': 2013}},\n",
      " {'AverageMonthlySales': 739.63, '_id': {'Month': 1, 'Year': 2014}},\n",
      " {'AverageMonthlySales': 739.69, '_id': {'Month': 2, 'Year': 2014}},\n",
      " {'AverageMonthlySales': 772.81, '_id': {'Month': 3, 'Year': 2014}},\n",
      " {'AverageMonthlySales': 764.16, '_id': {'Month': 4, 'Year': 2014}},\n",
      " {'AverageMonthlySales': 788.65, '_id': {'Month': 5, 'Year': 2014}},\n",
      " {'AverageMonthlySales': 751.96, '_id': {'Month': 6, 'Year': 2014}},\n",
      " {'AverageMonthlySales': 779.68, '_id': {'Month': 7, 'Year': 2014}},\n",
      " {'AverageMonthlySales': 818.17, '_id': {'Month': 8, 'Year': 2014}},\n",
      " {'AverageMonthlySales': 776.6, '_id': {'Month': 9, 'Year': 2014}},\n",
      " {'AverageMonthlySales': 758.01, '_id': {'Month': 10, 'Year': 2014}},\n",
      " {'AverageMonthlySales': 807.08, '_id': {'Month': 11, 'Year': 2014}},\n",
      " {'AverageMonthlySales': 751.05, '_id': {'Month': 12, 'Year': 2014}},\n",
      " {'AverageMonthlySales': 794.43, '_id': {'Month': 1, 'Year': 2015}},\n",
      " {'AverageMonthlySales': 786.38, '_id': {'Month': 2, 'Year': 2015}},\n",
      " {'AverageMonthlySales': 781.0, '_id': {'Month': 3, 'Year': 2015}},\n",
      " {'AverageMonthlySales': 786.41, '_id': {'Month': 4, 'Year': 2015}},\n",
      " {'AverageMonthlySales': 759.72, '_id': {'Month': 5, 'Year': 2015}},\n",
      " {'AverageMonthlySales': 757.8, '_id': {'Month': 6, 'Year': 2015}},\n",
      " {'AverageMonthlySales': 755.62, '_id': {'Month': 7, 'Year': 2015}},\n",
      " {'AverageMonthlySales': 752.26, '_id': {'Month': 8, 'Year': 2015}},\n",
      " {'AverageMonthlySales': 757.49, '_id': {'Month': 9, 'Year': 2015}},\n",
      " {'AverageMonthlySales': 745.8, '_id': {'Month': 10, 'Year': 2015}},\n",
      " {'AverageMonthlySales': 741.49, '_id': {'Month': 11, 'Year': 2015}},\n",
      " {'AverageMonthlySales': 758.63, '_id': {'Month': 12, 'Year': 2015}},\n",
      " {'AverageMonthlySales': 766.51, '_id': {'Month': 1, 'Year': 2016}},\n",
      " {'AverageMonthlySales': 781.29, '_id': {'Month': 2, 'Year': 2016}},\n",
      " {'AverageMonthlySales': 780.5, '_id': {'Month': 3, 'Year': 2016}},\n",
      " {'AverageMonthlySales': 786.95, '_id': {'Month': 4, 'Year': 2016}},\n",
      " {'AverageMonthlySales': 795.72, '_id': {'Month': 5, 'Year': 2016}}]\n"
     ]
    }
   ],
   "source": [
    "## By month, year\n",
    "\n",
    "query_1 = {\n",
    "        \"$lookup\":{\n",
    "           \"from\": \"referenced_orderlines\",\n",
    "           \"localField\": \"OrderID\",\n",
    "           \"foreignField\": \"OrderID\",\n",
    "           \"as\": \"Orderline\"\n",
    "        }\n",
    "    }\n",
    "\n",
    "query_2 = {'$unwind' : '$Orderline'}\n",
    "\n",
    "query_3 = { '$group':{\n",
    "           '_id': \n",
    "                { 'Year': { '$year': \"$OrderDate\" }, \n",
    "                  'Month': { '$month': \"$OrderDate\" } \n",
    "               },\n",
    "                  'AverageMonthlySales': { \"$avg\" : { \"$multiply\" : [\"$Orderline.UnitPrice\", \n",
    "                                                                       \"$Orderline.Quantity\"] } }\n",
    "            }\n",
    "          }\n",
    "\n",
    "query_4 = {\"$sort\": {\"_id\": 1} }\n",
    "\n",
    "query_5 = {'$project': { '_id':1,\n",
    "                        'AverageMonthlySales': {'$trunc': ['$AverageMonthlySales',2]}\n",
    "}}\n",
    "pipeline = [query_1, query_2, query_3, query_4, query_5] \n",
    "\n",
    "r = db.referenced_orders.aggregate(pipeline)\n",
    "\n",
    "result = list(r)\n",
    "\n",
    "pprint(result)"
   ]
  },
  {
   "cell_type": "code",
   "execution_count": 16,
   "metadata": {},
   "outputs": [
    {
     "name": "stdout",
     "output_type": "stream",
     "text": [
      "[{'AverageMonthlySales': 757.01, '_id': {'Month': 1}},\n",
      " {'AverageMonthlySales': 767.66, '_id': {'Month': 2}},\n",
      " {'AverageMonthlySales': 768.27, '_id': {'Month': 3}},\n",
      " {'AverageMonthlySales': 780.34, '_id': {'Month': 4}},\n",
      " {'AverageMonthlySales': 786.07, '_id': {'Month': 5}},\n",
      " {'AverageMonthlySales': 761.85, '_id': {'Month': 6}},\n",
      " {'AverageMonthlySales': 765.96, '_id': {'Month': 7}},\n",
      " {'AverageMonthlySales': 772.72, '_id': {'Month': 8}},\n",
      " {'AverageMonthlySales': 766.6, '_id': {'Month': 9}},\n",
      " {'AverageMonthlySales': 751.38, '_id': {'Month': 10}},\n",
      " {'AverageMonthlySales': 771.95, '_id': {'Month': 11}},\n",
      " {'AverageMonthlySales': 753.65, '_id': {'Month': 12}}]\n"
     ]
    }
   ],
   "source": [
    "## By month in general\n",
    "\n",
    "query_1 = {\n",
    "        \"$lookup\":{\n",
    "           \"from\": \"referenced_orderlines\",\n",
    "           \"localField\": \"OrderID\",\n",
    "           \"foreignField\": \"OrderID\",\n",
    "           \"as\": \"Orderline\"\n",
    "        }\n",
    "    }\n",
    "\n",
    "query_2 = {'$unwind' : '$Orderline'}\n",
    "\n",
    "query_3 = { '$group':{\n",
    "           '_id': \n",
    "                {  \n",
    "                  'Month': { '$month': \"$OrderDate\" } \n",
    "               },\n",
    "                  'AverageMonthlySales': { \"$avg\" : { \"$multiply\" : [\"$Orderline.UnitPrice\", \n",
    "                                                                       \"$Orderline.Quantity\"] } }\n",
    "            }\n",
    "          }\n",
    "\n",
    "query_4 = {\"$sort\": {\"_id\": 1} }\n",
    "\n",
    "query_5 = {'$project': { '_id':1,\n",
    "                        'AverageMonthlySales': {'$trunc': ['$AverageMonthlySales',2]}\n",
    "}}\n",
    "\n",
    "pipeline = [query_1, query_2, query_3, query_4, query_5] \n",
    "\n",
    "r = db.referenced_orders.aggregate(pipeline)\n",
    "\n",
    "result = list(r)\n",
    "\n",
    "pprint(result)"
   ]
  },
  {
   "cell_type": "markdown",
   "metadata": {},
   "source": [
    "D. In each state province what is the average customer credit limit?"
   ]
  },
  {
   "cell_type": "code",
   "execution_count": 17,
   "metadata": {},
   "outputs": [
    {
     "name": "stdout",
     "output_type": "stream",
     "text": [
      "[{'AverageCreditLimit': 2900.0, '_id': {'StateProvinceName': ['Kansas']}},\n",
      " {'AverageCreditLimit': 2858.33, '_id': {'StateProvinceName': ['Alaska']}},\n",
      " {'AverageCreditLimit': 2773.33, '_id': {'StateProvinceName': ['Michigan']}},\n",
      " {'AverageCreditLimit': 1666.66, '_id': {'StateProvinceName': ['Montana']}},\n",
      " {'AverageCreditLimit': 1750.0, '_id': {'StateProvinceName': ['Maryland']}},\n",
      " {'AverageCreditLimit': 2950.0, '_id': {'StateProvinceName': ['Arizona']}},\n",
      " {'AverageCreditLimit': 2800.0,\n",
      "  '_id': {'StateProvinceName': ['New Hampshire']}},\n",
      " {'AverageCreditLimit': 2481.66, '_id': {'StateProvinceName': ['Iowa']}},\n",
      " {'AverageCreditLimit': 2033.33, '_id': {'StateProvinceName': ['Colorado']}},\n",
      " {'AverageCreditLimit': 2915.0, '_id': {'StateProvinceName': ['Virginia']}},\n",
      " {'AverageCreditLimit': 2942.85, '_id': {'StateProvinceName': ['Ohio']}},\n",
      " {'AverageCreditLimit': 2595.0, '_id': {'StateProvinceName': ['Nebraska']}},\n",
      " {'AverageCreditLimit': 2758.92, '_id': {'StateProvinceName': ['New York']}},\n",
      " {'AverageCreditLimit': 2631.75, '_id': {'StateProvinceName': ['Georgia']}},\n",
      " {'AverageCreditLimit': 2520.0, '_id': {'StateProvinceName': ['Washington']}},\n",
      " {'AverageCreditLimit': 2806.0, '_id': {'StateProvinceName': ['Oklahoma']}},\n",
      " {'AverageCreditLimit': 2700.0, '_id': {'StateProvinceName': ['Idaho']}},\n",
      " {'AverageCreditLimit': 2613.33, '_id': {'StateProvinceName': ['Missouri']}},\n",
      " {'AverageCreditLimit': 2567.85,\n",
      "  '_id': {'StateProvinceName': ['West Virginia']}},\n",
      " {'AverageCreditLimit': 2479.16,\n",
      "  '_id': {'StateProvinceName': ['South Carolina']}},\n",
      " {'AverageCreditLimit': 3530.0, '_id': {'StateProvinceName': ['Oregon']}},\n",
      " {'AverageCreditLimit': 2000.0, '_id': {'StateProvinceName': ['Vermont']}},\n",
      " {'AverageCreditLimit': 2500.0, '_id': {'StateProvinceName': ['North Dakota']}},\n",
      " {'AverageCreditLimit': 2374.0, '_id': {'StateProvinceName': ['Kentucky']}},\n",
      " {'AverageCreditLimit': 2255.83,\n",
      "  '_id': {'StateProvinceName': ['Pennsylvania']}},\n",
      " {'AverageCreditLimit': 3200.0, '_id': {'StateProvinceName': ['Utah']}},\n",
      " {'AverageCreditLimit': 2641.42, '_id': {'StateProvinceName': ['New Jersey']}},\n",
      " {'AverageCreditLimit': 2513.12, '_id': {'StateProvinceName': ['Minnesota']}},\n",
      " {'AverageCreditLimit': 3365.0, '_id': {'StateProvinceName': ['Wyoming']}},\n",
      " {'AverageCreditLimit': 2800.0, '_id': {'StateProvinceName': ['Florida']}},\n",
      " {'AverageCreditLimit': 2507.5,\n",
      "  '_id': {'StateProvinceName': ['Massachusetts[E]']}},\n",
      " {'AverageCreditLimit': 3044.16, '_id': {'StateProvinceName': ['Arkansas']}},\n",
      " {'AverageCreditLimit': 2661.36,\n",
      "  '_id': {'StateProvinceName': ['North Carolina']}},\n",
      " {'AverageCreditLimit': 2133.33, '_id': {'StateProvinceName': ['Wisconsin']}},\n",
      " {'AverageCreditLimit': 2400.0, '_id': {'StateProvinceName': ['Mississippi']}},\n",
      " {'AverageCreditLimit': 2400.0, '_id': {'StateProvinceName': ['Maine']}},\n",
      " {'AverageCreditLimit': 3098.75, '_id': {'StateProvinceName': ['Indiana']}},\n",
      " {'AverageCreditLimit': 2741.0, '_id': {'StateProvinceName': ['New Mexico']}},\n",
      " {'AverageCreditLimit': 2747.5, '_id': {'StateProvinceName': ['South Dakota']}},\n",
      " {'AverageCreditLimit': 2336.0, '_id': {'StateProvinceName': ['Illinois']}},\n",
      " {'AverageCreditLimit': 3465.0, '_id': {'StateProvinceName': ['Tennessee']}},\n",
      " {'AverageCreditLimit': 3500.0, '_id': {'StateProvinceName': ['Connecticut']}},\n",
      " {'AverageCreditLimit': 2787.3, '_id': {'StateProvinceName': ['California']}},\n",
      " {'AverageCreditLimit': 2372.04, '_id': {'StateProvinceName': ['Louisiana']}},\n",
      " {'AverageCreditLimit': 3600.0, '_id': {'StateProvinceName': ['Nevada']}},\n",
      " {'AverageCreditLimit': 1985.0, '_id': {'StateProvinceName': ['Alabama']}},\n",
      " {'AverageCreditLimit': 2766.66,\n",
      "  '_id': {'StateProvinceName': ['Puerto Rico (US Territory)']}},\n",
      " {'AverageCreditLimit': 2312.5, '_id': {'StateProvinceName': ['Texas']}}]\n"
     ]
    }
   ],
   "source": [
    "query_1 = {\n",
    "    '$match': {'CreditLimit': {'$exists' :1, '$ne' : None}\n",
    "          }\n",
    "}\n",
    "    \n",
    "query_2 = {\n",
    "                \"$group\": {\n",
    "                \"_id\":  {\"StateProvinceName\":\"$PostalStateProvince.StateProvinceName\"},\n",
    "                \"AverageCreditLimit\": {\"$avg\": '$CreditLimit'}\n",
    "            }\n",
    "        }\n",
    "\n",
    "query_3 = { '$project': { '_id': 1, \n",
    "                         'AverageCreditLimit' : { '$trunc': [ \"$AverageCreditLimit\", 2 ] } } } \n",
    "\n",
    "pipeline = [query_1, query_2, query_3]\n",
    "\n",
    "r = db.customer_location_embed.aggregate(pipeline)\n",
    "\n",
    "result = list(r)\n",
    "\n",
    "pprint(result)"
   ]
  },
  {
   "cell_type": "markdown",
   "metadata": {},
   "source": [
    "E. What are the yearly expenditures with each supplier (per supplier name)?"
   ]
  },
  {
   "cell_type": "code",
   "execution_count": 18,
   "metadata": {},
   "outputs": [
    {
     "name": "stdout",
     "output_type": "stream",
     "text": [
      "[{'ExpendituresWithSupplier': 360.53,\n",
      "  '_id': {'SupplierName': 'Contoso, Ltd.', 'Year': 2013}},\n",
      " {'ExpendituresWithSupplier': 7462.45,\n",
      "  '_id': {'SupplierName': 'Graphic Design Institute', 'Year': 2013}},\n",
      " {'ExpendituresWithSupplier': 27525.3,\n",
      "  '_id': {'SupplierName': 'A Datum Corporation', 'Year': 2016}},\n",
      " {'ExpendituresWithSupplier': 58443.01,\n",
      "  '_id': {'SupplierName': 'The Phone Company', 'Year': 2013}},\n",
      " {'ExpendituresWithSupplier': 90639.0,\n",
      "  '_id': {'SupplierName': 'Northwind Electric Cars', 'Year': 2013}},\n",
      " {'ExpendituresWithSupplier': 9671552.35,\n",
      "  '_id': {'SupplierName': 'Litware, Inc.', 'Year': 2013}},\n",
      " {'ExpendituresWithSupplier': 59995486.21,\n",
      "  '_id': {'SupplierName': 'Fabrikam, Inc.', 'Year': 2013}},\n",
      " {'ExpendituresWithSupplier': 65775421.019999996,\n",
      "  '_id': {'SupplierName': 'Litware, Inc.', 'Year': 2014}},\n",
      " {'ExpendituresWithSupplier': 85238633.46,\n",
      "  '_id': {'SupplierName': 'Litware, Inc.', 'Year': 2016}},\n",
      " {'ExpendituresWithSupplier': 144497536.52,\n",
      "  '_id': {'SupplierName': 'Litware, Inc.', 'Year': 2015}},\n",
      " {'ExpendituresWithSupplier': 190761553.8,\n",
      "  '_id': {'SupplierName': 'Fabrikam, Inc.', 'Year': 2014}},\n",
      " {'ExpendituresWithSupplier': 190967939.7,\n",
      "  '_id': {'SupplierName': 'Fabrikam, Inc.', 'Year': 2016}},\n",
      " {'ExpendituresWithSupplier': 336179281.5,\n",
      "  '_id': {'SupplierName': 'Fabrikam, Inc.', 'Year': 2015}}]\n"
     ]
    }
   ],
   "source": [
    "#Regarding the transaction types, related to suppliers, we only have records\n",
    "#with the transaction type '5' and '7', 'Supplier Invoice' and 'Supplier Payment Issued',\n",
    "#respectively. The first one refers to the value of the transaction and the\n",
    "#second one refers to the amount that the company has to pay to the supplier.\n",
    "#For the same transaction, the absolute value of both is supposed to be the same \n",
    "#(when this value differs, from type '5' to type '7', it means that the invoice has emitted\n",
    "#but the it was not paid yet).\n",
    "#So, we only will use the 'Supplier Invoice' since its values are positive.\n",
    "#in addition, a payment is only issued after the invoice has been emitted.\n",
    "\n",
    "query_1 = {'$unwind': '$TransactionType'}\n",
    "\n",
    "query_2 = {'$match': {'TransactionType.TransactionTypeName':'Supplier Payment Issued'}}\n",
    "\n",
    "query_3 = {\n",
    "        \"$lookup\":{\n",
    "           \"from\": \"suppliers_embed\",\n",
    "           \"localField\": \"SupplierID\",\n",
    "           \"foreignField\": \"SupplierID\",\n",
    "           \"as\": \"Suppliers\"\n",
    "        }\n",
    "    }\n",
    "\n",
    "query_4 = {'$unwind': '$Suppliers'}\n",
    "\n",
    "query_5 = { '$group':{\n",
    "           '_id': \n",
    "                {'Year': { '$year': \"$TransactionDate\" },\n",
    "                  'SupplierName' : '$Suppliers.SupplierName'},\n",
    "                  'ExpendituresWithSupplier': { \"$sum\" : {'$abs': '$TransactionAmount'} }\n",
    "            }\n",
    "          }\n",
    "\n",
    "query_6 = {'$sort' : {'ExpendituresWithSupplier' : 1}}\n",
    "\n",
    "pipeline = [query_1, query_2, query_3, query_4, query_5, query_6]\n",
    "\n",
    "r = db.suppliertransactions_embed.aggregate(pipeline)\n",
    "\n",
    "result = list(r)\n",
    "\n",
    "pprint(result)"
   ]
  },
  {
   "cell_type": "markdown",
   "metadata": {},
   "source": [
    "### 4. Partnerships needs to know:"
   ]
  },
  {
   "cell_type": "markdown",
   "metadata": {},
   "source": [
    "A. What is the most common payment type?"
   ]
  },
  {
   "cell_type": "code",
   "execution_count": null,
   "metadata": {},
   "outputs": [],
   "source": [
    "# In this query, we only counted the payment type for the customer transactions, since we thought\n",
    "# that the main focus of the Parternships would be regarding its consumers (customers), and not regarding\n",
    "# the most common payment type of the suppleirs transactions."
   ]
  },
  {
   "cell_type": "code",
   "execution_count": 31,
   "metadata": {},
   "outputs": [
    {
     "name": "stdout",
     "output_type": "stream",
     "text": [
      "[{'CountTransactions': 26637, '_id': 'EFT'}]\n"
     ]
    }
   ],
   "source": [
    "query_1 = {'$unwind': '$PaymentMethod'}\n",
    "\n",
    "query_2 = {\n",
    "         '$group': {\n",
    "          '_id': '$PaymentMethod.PaymentMethodName',\n",
    "         'CountTransactions':{'$sum': 1}\n",
    "      }\n",
    "   }\n",
    "\n",
    "query_3 = {'$sort': {\"CountTransactions\": -1}}\n",
    "    \n",
    "query_4 = {'$limit': 1}\n",
    "\n",
    "\n",
    "pipeline = [query_1, query_2, query_3, query_4]\n",
    "\n",
    "r = db.customertransactions_embed.aggregate(pipeline)\n",
    "\n",
    "result = list(r)\n",
    "\n",
    "pprint(result)"
   ]
  },
  {
   "cell_type": "markdown",
   "metadata": {},
   "source": [
    "B. What percentage of people have their Title as Team Member?\n"
   ]
  },
  {
   "cell_type": "code",
   "execution_count": null,
   "metadata": {},
   "outputs": [],
   "source": [
    "# We created a TEXT index for the field CustomFields, so it could support\n",
    "# searching for string content. In this case, the content \"Team Member\""
   ]
  },
  {
   "cell_type": "code",
   "execution_count": 20,
   "metadata": {},
   "outputs": [
    {
     "name": "stdout",
     "output_type": "stream",
     "text": [
      "The percentage of people records that have their title as Team Member is: 1.17%.\n"
     ]
    }
   ],
   "source": [
    "db.referenced_people.create_index(\n",
    "    [('CustomFields', TEXT)],\n",
    "    default_language='english',\n",
    "    name = 'CustomFields_text'\n",
    ")\n",
    "\n",
    "query_1 = { '$match': { '$text': { '$search': \"Team Member\" } } }\n",
    "\n",
    "\n",
    "pipeline = [query_1] \n",
    "\n",
    "r = db.referenced_people.aggregate(pipeline)\n",
    "\n",
    "result = round(len(list(r))/db.referenced_people.count_documents({})*100,2)\n",
    "\n",
    "print(\"The percentage of people records that have their title as Team Member is: \" + str(result) + \"%.\")"
   ]
  },
  {
   "cell_type": "code",
   "execution_count": 21,
   "metadata": {},
   "outputs": [],
   "source": [
    "# drop index after using (we won't need it again)\n",
    "db.referenced_people.drop_index('CustomFields_text')"
   ]
  },
  {
   "cell_type": "markdown",
   "metadata": {},
   "source": [
    "C. Which supplier of the category Novelty Goods Supplier has the most transactions?"
   ]
  },
  {
   "cell_type": "code",
   "execution_count": 22,
   "metadata": {},
   "outputs": [
    {
     "name": "stdout",
     "output_type": "stream",
     "text": [
      "[{'CountTransactions': 16, 'SupplierName': 'Graphic Design Institute'}]\n"
     ]
    }
   ],
   "source": [
    "query_1 = {'$unwind': '$SupplierCategory'}\n",
    "\n",
    "#We performed query_2 before we did the lookup to optimize the query performance\n",
    "#Will be faster because we have less records to join in the lookup\n",
    "query_2 = {'$match': {'SupplierCategory.SupplierCategoryName': 'Novelty Goods Supplier'}}\n",
    "\n",
    "query_3 = {\n",
    "        \"$lookup\":{\n",
    "           \"from\": \"suppliertransactions_embed\",\n",
    "           \"localField\": \"SupplierID\",\n",
    "           \"foreignField\": \"SupplierID\",\n",
    "           \"as\": \"SupplierTransactions\"\n",
    "        }\n",
    "    }\n",
    "\n",
    "query_4 =  {\n",
    "         '$project': {\n",
    "          '_id': 0,\n",
    "         'SupplierName': 1,\n",
    "         'CountTransactions': {'$size': \"$SupplierTransactions\" }\n",
    "      }\n",
    "   }\n",
    "\n",
    "query_5 = {'$sort': {\"CountTransactions\": -1}}\n",
    "    \n",
    "query_6 = {'$limit': 1}\n",
    "\n",
    "\n",
    "pipeline = [query_1, query_2, query_3,query_4,query_5,query_6]\n",
    "\n",
    "r = db.suppliers_embed.aggregate(pipeline)\n",
    "\n",
    "result = list(r)\n",
    "\n",
    "pprint(result)\n"
   ]
  },
  {
   "cell_type": "markdown",
   "metadata": {},
   "source": [
    "D. What is the highest CommissionRate that a person has?"
   ]
  },
  {
   "cell_type": "code",
   "execution_count": 23,
   "metadata": {},
   "outputs": [
    {
     "name": "stdout",
     "output_type": "stream",
     "text": [
      "[{'_id': 0, 'max': 4.55}]\n"
     ]
    }
   ],
   "source": [
    "query_1 = { '$group' : { '_id': 0, 'max': { '$max' : \"$CommissionRate\" }}}\n",
    "\n",
    "pipeline = [query_1]\n",
    "\n",
    "r = db.referenced_people.aggregate(pipeline)\n",
    "\n",
    "result = list(r)\n",
    "\n",
    "pprint(result)"
   ]
  },
  {
   "cell_type": "markdown",
   "metadata": {},
   "source": [
    "### 5. The marketing team needs to know:"
   ]
  },
  {
   "cell_type": "markdown",
   "metadata": {},
   "source": [
    "A. What is the name of the sales person with the largest sum of invoice values in 2013 (person whose customers paid the most money)?"
   ]
  },
  {
   "cell_type": "code",
   "execution_count": 24,
   "metadata": {},
   "outputs": [
    {
     "name": "stdout",
     "output_type": "stream",
     "text": [
      "[{'SalesPersonName': 'Hudson Onslow', 'SumOfInvoiceValues': 5593922.31}]\n"
     ]
    }
   ],
   "source": [
    "query_1 =  { '$set': {'InvoiceYear': {'$year': '$InvoiceDate'}}}\n",
    "\n",
    "\n",
    "#We performed query_2 before we did the lookup in query_3 to optimize the query performance\n",
    "#Will be faster because we have less records to join in the lookup\n",
    "query_2 = {'$match' : {'InvoiceYear':2013}}\n",
    "\n",
    "query_3 = {\n",
    "        \"$lookup\":{\n",
    "           \"from\": \"referenced_invoicelines\",\n",
    "           \"localField\": \"InvoiceID\",\n",
    "           \"foreignField\": \"InvoiceID\",\n",
    "           \"as\": \"Invoiceline\"\n",
    "        }\n",
    "    }\n",
    "\n",
    "query_4 = {\"$unwind\" : \"$Invoiceline\"}\n",
    "\n",
    "\n",
    "#We performed this group before we did the lookup in query_6 to optimize the query performance\n",
    "#Will be faster because we have less records to join in the lookup\n",
    "query_5 = { '$group' : { \n",
    "                        '_id': {'SalespersonPersonID': '$SalespersonPersonID'}, \n",
    "                        'SumOfInvoiceValues': {'$sum': '$Invoiceline.ExtendedPrice'}}\n",
    "          }\n",
    "           \n",
    "query_6 = {\"$lookup\":{\n",
    "           \"from\": \"referenced_people\",\n",
    "           \"localField\": \"_id.SalespersonPersonID\",\n",
    "           \"foreignField\": \"PersonID\",\n",
    "           \"as\": \"SalesPerson\"\n",
    "        }\n",
    "    }\n",
    "\n",
    "query_7 = {'$unwind': '$SalesPerson'}\n",
    "\n",
    "query_8 = {'$project': {'_id':0,\n",
    "                       'SalesPersonName':'$SalesPerson.FullName',\n",
    "                       'SumOfInvoiceValues':1}}\n",
    "\n",
    "query_9 = {'$sort': {\"SumOfInvoiceValues\": -1}}\n",
    "    \n",
    "query_10 = {'$limit': 1}\n",
    "\n",
    "pipeline = [query_1, query_2, query_3, query_4, query_5, query_6, query_7, query_8, query_9, query_10]\n",
    "\n",
    "r = db.referenced_invoices.aggregate(pipeline)\n",
    "\n",
    "result = list(r)\n",
    "\n",
    "pprint(result)"
   ]
  },
  {
   "cell_type": "markdown",
   "metadata": {},
   "source": [
    "B. Who are the most common PickedByPersonID person names for orders done by customer Adriana Pena?"
   ]
  },
  {
   "cell_type": "code",
   "execution_count": 25,
   "metadata": {},
   "outputs": [
    {
     "name": "stdout",
     "output_type": "stream",
     "text": [
      "[{'Count': 3, '_id': {'PickedByPersonName': 'Katie Darwin'}},\n",
      " {'Count': 3, '_id': {'PickedByPersonName': 'Piper Koch'}},\n",
      " {'Count': 3, '_id': {'PickedByPersonName': 'Anthony Grosse'}}]\n"
     ]
    }
   ],
   "source": [
    "#We performed query_1 before we did the lookups to optimize the query performance\n",
    "#Will be faster because we have less records to join in both of the lookups\n",
    "query_1 = {\n",
    "    '$match': {'CustomerName': 'Adriana Pena'}\n",
    "}\n",
    "\n",
    "\n",
    "query_2 = {\n",
    "        \"$lookup\":{\n",
    "           \"from\": \"referenced_orders\",\n",
    "           \"localField\": \"CustomerID\",\n",
    "           \"foreignField\": \"CustomerID\",\n",
    "           \"as\": \"Order\"\n",
    "        }\n",
    "    }\n",
    "\n",
    "query_3 = {\"$unwind\" : \"$Order\"}\n",
    "\n",
    "\n",
    "query_4 = {\n",
    "        \"$lookup\":{\n",
    "           \"from\": \"referenced_people\",\n",
    "           \"localField\": \"Order.PickedByPersonID\",\n",
    "           \"foreignField\": \"PersonID\",\n",
    "           \"as\": \"PickedByPerson\"\n",
    "        }\n",
    "    }\n",
    "\n",
    "\n",
    "query_5 = {\"$unwind\" : \"$PickedByPerson\"}\n",
    "\n",
    "\n",
    "query_6 = {\n",
    "        \"$group\":{\n",
    "            \"_id\":{\n",
    "                \"PickedByPersonName\": \"$PickedByPerson.FullName\"\n",
    "            }, \n",
    "            \"Count\":{ \"$sum\": 1 }\n",
    "    }}\n",
    "\n",
    "query_7 = {'$sort': {\"Count\": -1}}\n",
    "    \n",
    "query_8 = {'$limit': 3} #The limit is 3 because the we have a draw\n",
    "\n",
    "pipeline = [query_1,query_2,query_3,query_4,query_5,query_6,query_7,query_8]\n",
    "\n",
    "r = db.customers_embed.aggregate(pipeline)\n",
    "\n",
    "result = list(r)\n",
    "\n",
    "pprint(result)"
   ]
  },
  {
   "cell_type": "markdown",
   "metadata": {},
   "source": [
    "C. How many people have in their name the string Sara?"
   ]
  },
  {
   "cell_type": "code",
   "execution_count": null,
   "metadata": {},
   "outputs": [],
   "source": [
    "# We created a TEXT index for the field FullName, so it could support\n",
    "# searching for string content. In this case, the content \"Sara\""
   ]
  },
  {
   "cell_type": "code",
   "execution_count": 26,
   "metadata": {},
   "outputs": [
    {
     "name": "stdout",
     "output_type": "stream",
     "text": [
      "The number of people that have in their name the string Sara is: 4.\n"
     ]
    }
   ],
   "source": [
    "db.referenced_people.create_index(\n",
    "    [('FullName', TEXT)],\n",
    "    default_language='english',\n",
    "    name = 'FullName_text'\n",
    ")\n",
    "\n",
    "query_1 = { '$match': { '$text': { '$search': \"Sara\" } } }\n",
    "\n",
    "\n",
    "pipeline = [query_1] \n",
    "\n",
    "r = db.referenced_people.aggregate(pipeline)\n",
    "\n",
    "result = len(list(r))\n",
    "\n",
    "print(\"The number of people that have in their name the string Sara is: \" + str(result) + \".\")"
   ]
  },
  {
   "cell_type": "code",
   "execution_count": 27,
   "metadata": {},
   "outputs": [],
   "source": [
    "# drop index after using (we won't need it again)\n",
    "db.referenced_people.drop_index('FullName_text')"
   ]
  },
  {
   "cell_type": "markdown",
   "metadata": {},
   "source": [
    "D. What are the top 10 most Common Names (Primary or Surnames) of people?"
   ]
  },
  {
   "cell_type": "code",
   "execution_count": 28,
   "metadata": {},
   "outputs": [
    {
     "name": "stdout",
     "output_type": "stream",
     "text": [
      "[{'Count': 8, '_id': 'Bose'},\n",
      " {'Count': 7, '_id': 'Ganguly'},\n",
      " {'Count': 6, '_id': 'Thakur'},\n",
      " {'Count': 6, '_id': 'Roman'},\n",
      " {'Count': 5, '_id': 'Mukherjee'},\n",
      " {'Count': 5, '_id': 'PrabhupÄ\\x81da'},\n",
      " {'Count': 5, '_id': 'De'},\n",
      " {'Count': 5, '_id': 'Dhanishta'},\n",
      " {'Count': 5, '_id': 'David'},\n",
      " {'Count': 4, '_id': 'Sara'}]\n"
     ]
    }
   ],
   "source": [
    "query_1 = { '$project' : \n",
    "           {'NamesList' : { '$split': [\"$FullName\", \" \"]}\n",
    "            } \n",
    "          }\n",
    "\n",
    "query_2 = { '$addFields': {\n",
    "                'firstName': { '$slice': [ '$NamesList', 1 ] },\n",
    "                'lastName': { '$slice': [ '$NamesList', -1 ] }\n",
    "    } }\n",
    "\n",
    "query_3 = { '$project': { 'Name': { '$concatArrays': [ \"$firstName\", \"$lastName\" ] } } }\n",
    "\n",
    "query_4 = {\n",
    "    \"$unwind\": \"$Name\"\n",
    "}\n",
    "\n",
    "query_5 = {'$group': {\n",
    "            '_id': '$Name',\n",
    "             \"Count\": { \"$sum\": 1 }\n",
    "            } }\n",
    "\n",
    "query_6 = {'$sort': {\"Count\": -1}}\n",
    "    \n",
    "query_7 = {'$limit':10}\n",
    "\n",
    "pipeline = [query_1, query_2, query_3, query_4, query_5, query_6, query_7]\n",
    "\n",
    "r = db.referenced_people.aggregate(pipeline)\n",
    "\n",
    "result = list(r)\n",
    "\n",
    "pprint(result)"
   ]
  }
 ],
 "metadata": {
  "hide_input": false,
  "kernelspec": {
   "display_name": "Python 3 (ipykernel)",
   "language": "python",
   "name": "python3"
  },
  "language_info": {
   "codemirror_mode": {
    "name": "ipython",
    "version": 3
   },
   "file_extension": ".py",
   "mimetype": "text/x-python",
   "name": "python",
   "nbconvert_exporter": "python",
   "pygments_lexer": "ipython3",
   "version": "3.9.7"
  },
  "toc": {
   "base_numbering": 1,
   "nav_menu": {},
   "number_sections": true,
   "sideBar": true,
   "skip_h1_title": false,
   "title_cell": "Table of Contents",
   "title_sidebar": "Contents",
   "toc_cell": false,
   "toc_position": {},
   "toc_section_display": true,
   "toc_window_display": false
  },
  "varInspector": {
   "cols": {
    "lenName": 16,
    "lenType": 16,
    "lenVar": 40
   },
   "kernels_config": {
    "python": {
     "delete_cmd_postfix": "",
     "delete_cmd_prefix": "del ",
     "library": "var_list.py",
     "varRefreshCmd": "print(var_dic_list())"
    },
    "r": {
     "delete_cmd_postfix": ") ",
     "delete_cmd_prefix": "rm(",
     "library": "var_list.r",
     "varRefreshCmd": "cat(var_dic_list()) "
    }
   },
   "types_to_exclude": [
    "module",
    "function",
    "builtin_function_or_method",
    "instance",
    "_Feature"
   ],
   "window_display": false
  }
 },
 "nbformat": 4,
 "nbformat_minor": 4
}
