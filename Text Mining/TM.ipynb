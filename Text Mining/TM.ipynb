{
 "cells": [
  {
   "cell_type": "markdown",
   "id": "bb2aa457",
   "metadata": {},
   "source": [
    "## Sentiment Analysis "
   ]
  },
  {
   "cell_type": "markdown",
   "id": "d5ba90db",
   "metadata": {},
   "source": [
    "### TM 2021-2022 "
   ]
  },
  {
   "cell_type": "markdown",
   "id": "630045b9",
   "metadata": {},
   "source": [
    "- . Ana Portugal m20210671\n",
    "- . Carolina Machado m20210676\n",
    "- . Francisco Calha m20210673\n",
    "- . Sara Arana m20210672"
   ]
  },
  {
   "cell_type": "markdown",
   "id": "6fa941ef",
   "metadata": {},
   "source": [
    "### Libraries "
   ]
  },
  {
   "cell_type": "markdown",
   "id": "c18120af",
   "metadata": {},
   "source": [
    "#### Normal Libraries "
   ]
  },
  {
   "cell_type": "code",
   "execution_count": 1,
   "id": "b6faa242",
   "metadata": {},
   "outputs": [],
   "source": [
    "import pandas as pd\n",
    "import numpy as np\n",
    "import matplotlib\n",
    "import matplotlib.pyplot as plt\n",
    "import seaborn as sn\n",
    "import warnings\n",
    "warnings.filterwarnings(\"ignore\")"
   ]
  },
  {
   "cell_type": "markdown",
   "id": "49db8e0f",
   "metadata": {},
   "source": [
    "#### Pre-Processing  Libraries"
   ]
  },
  {
   "cell_type": "code",
   "execution_count": 2,
   "id": "26463bdb",
   "metadata": {},
   "outputs": [
    {
     "name": "stderr",
     "output_type": "stream",
     "text": [
      "[nltk_data] Downloading package wordnet to\n",
      "[nltk_data]     C:\\Users\\sarax\\AppData\\Roaming\\nltk_data...\n",
      "[nltk_data]   Package wordnet is already up-to-date!\n",
      "[nltk_data] Downloading package stopwords to\n",
      "[nltk_data]     C:\\Users\\sarax\\AppData\\Roaming\\nltk_data...\n",
      "[nltk_data]   Package stopwords is already up-to-date!\n",
      "[nltk_data] Downloading package omw-1.4 to\n",
      "[nltk_data]     C:\\Users\\sarax\\AppData\\Roaming\\nltk_data...\n",
      "[nltk_data]   Package omw-1.4 is already up-to-date!\n",
      "[nltk_data] Downloading package punkt to\n",
      "[nltk_data]     C:\\Users\\sarax\\AppData\\Roaming\\nltk_data...\n",
      "[nltk_data]   Package punkt is already up-to-date!\n"
     ]
    },
    {
     "data": {
      "text/plain": [
       "True"
      ]
     },
     "execution_count": 2,
     "metadata": {},
     "output_type": "execute_result"
    }
   ],
   "source": [
    "import nltk\n",
    "nltk.download('wordnet')\n",
    "nltk.download('stopwords')\n",
    "nltk.download('omw-1.4')\n",
    "nltk.download('punkt')"
   ]
  },
  {
   "cell_type": "code",
   "execution_count": 3,
   "id": "4de27508",
   "metadata": {},
   "outputs": [],
   "source": [
    "from nltk.corpus import stopwords\n",
    "from nltk.stem.wordnet import WordNetLemmatizer\n",
    "from nltk.tokenize import word_tokenize\n",
    "from nltk.corpus import wordnet\n",
    "from nltk.stem import SnowballStemmer\n",
    "from bs4 import BeautifulSoup\n",
    "import string"
   ]
  },
  {
   "cell_type": "markdown",
   "id": "88bf5c17",
   "metadata": {},
   "source": [
    "#### Feature Extraction Libraries"
   ]
  },
  {
   "cell_type": "code",
   "execution_count": 4,
   "id": "ef5f3d9a",
   "metadata": {},
   "outputs": [],
   "source": [
    "from sklearn.feature_extraction.text import CountVectorizer\n",
    "from sklearn.feature_extraction.text import TfidfTransformer\n",
    "from sklearn.feature_extraction.text import TfidfVectorizer"
   ]
  },
  {
   "cell_type": "markdown",
   "id": "77a535f8",
   "metadata": {},
   "source": [
    "#### Machine Learning Models Libraries"
   ]
  },
  {
   "cell_type": "code",
   "execution_count": 5,
   "id": "91f7a6af",
   "metadata": {},
   "outputs": [],
   "source": [
    "from sklearn.model_selection import train_test_split\n",
    "from sklearn.neighbors import KNeighborsClassifier\n",
    "from sklearn import svm\n",
    "from sklearn.ensemble import GradientBoostingClassifier\n",
    "from sklearn.linear_model import LogisticRegression\n",
    "from sklearn.naive_bayes import MultinomialNB\n",
    "from sklearn.ensemble import RandomForestClassifier\n",
    "from sklearn.model_selection import GridSearchCV\n",
    "from sklearn.ensemble import StackingClassifier"
   ]
  },
  {
   "cell_type": "markdown",
   "id": "d04bf020",
   "metadata": {},
   "source": [
    "#### Deep Learning Model "
   ]
  },
  {
   "cell_type": "code",
   "execution_count": 6,
   "id": "5ae070d8",
   "metadata": {},
   "outputs": [],
   "source": [
    "from keras.preprocessing.text import Tokenizer\n",
    "from keras.models import Sequential\n",
    "from keras import layers \n",
    "from keras.layers import Dense, Dropout, Conv1D, MaxPooling1D, GlobalMaxPooling1D, Embedding, Activation,Flatten\n",
    "from keras import layers\n",
    "from tensorflow.keras.utils import to_categorical\n",
    "from keras_preprocessing.sequence import pad_sequences\n",
    "from keras.models import Sequential\n",
    "from tensorflow.keras.callbacks import EarlyStopping,ReduceLROnPlateau"
   ]
  },
  {
   "cell_type": "markdown",
   "id": "10c5719c",
   "metadata": {},
   "source": [
    "#### Score Libraries "
   ]
  },
  {
   "cell_type": "code",
   "execution_count": 7,
   "id": "07b3d4d8",
   "metadata": {},
   "outputs": [],
   "source": [
    "from sklearn.metrics import f1_score, make_scorer,accuracy_score\n",
    "from sklearn.metrics import classification_report\n",
    "from sklearn.metrics import confusion_matrix"
   ]
  },
  {
   "cell_type": "markdown",
   "id": "a8235ca9",
   "metadata": {},
   "source": [
    "### Loading Data "
   ]
  },
  {
   "cell_type": "code",
   "execution_count": 8,
   "id": "686604a4",
   "metadata": {},
   "outputs": [
    {
     "data": {
      "text/html": [
       "<div>\n",
       "<style scoped>\n",
       "    .dataframe tbody tr th:only-of-type {\n",
       "        vertical-align: middle;\n",
       "    }\n",
       "\n",
       "    .dataframe tbody tr th {\n",
       "        vertical-align: top;\n",
       "    }\n",
       "\n",
       "    .dataframe thead th {\n",
       "        text-align: right;\n",
       "    }\n",
       "</style>\n",
       "<table border=\"1\" class=\"dataframe\">\n",
       "  <thead>\n",
       "    <tr style=\"text-align: right;\">\n",
       "      <th></th>\n",
       "      <th>sentence</th>\n",
       "      <th>emotion</th>\n",
       "    </tr>\n",
       "  </thead>\n",
       "  <tbody>\n",
       "    <tr>\n",
       "      <th>0</th>\n",
       "      <td>I'm too old to be traded in .</td>\n",
       "      <td>6</td>\n",
       "    </tr>\n",
       "    <tr>\n",
       "      <th>1</th>\n",
       "      <td>Mother said you could always tell a lady by he...</td>\n",
       "      <td>8</td>\n",
       "    </tr>\n",
       "    <tr>\n",
       "      <th>2</th>\n",
       "      <td>I always said I'd leave off when the time came .</td>\n",
       "      <td>6</td>\n",
       "    </tr>\n",
       "    <tr>\n",
       "      <th>3</th>\n",
       "      <td>He'll be safe with me .</td>\n",
       "      <td>2</td>\n",
       "    </tr>\n",
       "    <tr>\n",
       "      <th>4</th>\n",
       "      <td>Lay off .</td>\n",
       "      <td>1</td>\n",
       "    </tr>\n",
       "  </tbody>\n",
       "</table>\n",
       "</div>"
      ],
      "text/plain": [
       "                                            sentence  emotion\n",
       "0                      I'm too old to be traded in .        6\n",
       "1  Mother said you could always tell a lady by he...        8\n",
       "2   I always said I'd leave off when the time came .        6\n",
       "3                            He'll be safe with me .        2\n",
       "4                                          Lay off .        1"
      ]
     },
     "execution_count": 8,
     "metadata": {},
     "output_type": "execute_result"
    }
   ],
   "source": [
    "dataframe = pd.read_csv('C:/Users/sarax/Desktop/tm/Project/training_set.txt', delimiter = \"\\t\")\n",
    "dataframe.head()"
   ]
  },
  {
   "cell_type": "code",
   "execution_count": 9,
   "id": "c095d4a7",
   "metadata": {},
   "outputs": [
    {
     "data": {
      "text/html": [
       "<div>\n",
       "<style scoped>\n",
       "    .dataframe tbody tr th:only-of-type {\n",
       "        vertical-align: middle;\n",
       "    }\n",
       "\n",
       "    .dataframe tbody tr th {\n",
       "        vertical-align: top;\n",
       "    }\n",
       "\n",
       "    .dataframe thead th {\n",
       "        text-align: right;\n",
       "    }\n",
       "</style>\n",
       "<table border=\"1\" class=\"dataframe\">\n",
       "  <thead>\n",
       "    <tr style=\"text-align: right;\">\n",
       "      <th></th>\n",
       "      <th>sentence</th>\n",
       "      <th>emotion</th>\n",
       "    </tr>\n",
       "  </thead>\n",
       "  <tbody>\n",
       "    <tr>\n",
       "      <th>0</th>\n",
       "      <td>What happens to the gold in our safe ?</td>\n",
       "      <td>4</td>\n",
       "    </tr>\n",
       "    <tr>\n",
       "      <th>1</th>\n",
       "      <td>Natural to get cold feet .</td>\n",
       "      <td>8</td>\n",
       "    </tr>\n",
       "    <tr>\n",
       "      <th>2</th>\n",
       "      <td>Not very lucky , is he ?</td>\n",
       "      <td>7</td>\n",
       "    </tr>\n",
       "    <tr>\n",
       "      <th>3</th>\n",
       "      <td>I'm just a little anxious to get up there and ...</td>\n",
       "      <td>2</td>\n",
       "    </tr>\n",
       "    <tr>\n",
       "      <th>4</th>\n",
       "      <td>Did you think we don't know about your affair ...</td>\n",
       "      <td>1</td>\n",
       "    </tr>\n",
       "  </tbody>\n",
       "</table>\n",
       "</div>"
      ],
      "text/plain": [
       "                                            sentence  emotion\n",
       "0             What happens to the gold in our safe ?        4\n",
       "1                         Natural to get cold feet .        8\n",
       "2                           Not very lucky , is he ?        7\n",
       "3  I'm just a little anxious to get up there and ...        2\n",
       "4  Did you think we don't know about your affair ...        1"
      ]
     },
     "execution_count": 9,
     "metadata": {},
     "output_type": "execute_result"
    }
   ],
   "source": [
    "df_dev = pd.read_csv('C:/Users/sarax/Desktop/tm/Project/dev_set.txt', delimiter = \"\\t\")\n",
    "df_dev.head()"
   ]
  },
  {
   "cell_type": "code",
   "execution_count": 10,
   "id": "45ec2005",
   "metadata": {},
   "outputs": [
    {
     "data": {
      "text/plain": [
       "<AxesSubplot:>"
      ]
     },
     "execution_count": 10,
     "metadata": {},
     "output_type": "execute_result"
    },
    {
     "data": {
      "image/png": "[encoded data removed]",
      "text/plain": [
       "<Figure size 432x288 with 1 Axes>"
      ]
     },
     "metadata": {
      "needs_background": "light"
     },
     "output_type": "display_data"
    }
   ],
   "source": [
    "dataframe['emotion'].value_counts().plot.bar()"
   ]
  },
  {
   "cell_type": "markdown",
   "id": "37e9b4fd",
   "metadata": {},
   "source": [
    "## Pre-Processing"
   ]
  },
  {
   "cell_type": "markdown",
   "id": "8fa7ea17",
   "metadata": {},
   "source": [
    "#### Missing Values"
   ]
  },
  {
   "cell_type": "code",
   "execution_count": 11,
   "id": "0f914fe8",
   "metadata": {},
   "outputs": [
    {
     "data": {
      "text/plain": [
       "sentence    0\n",
       "emotion     0\n",
       "dtype: int64"
      ]
     },
     "execution_count": 11,
     "metadata": {},
     "output_type": "execute_result"
    }
   ],
   "source": [
    "dataframe.isna().sum()"
   ]
  },
  {
   "cell_type": "markdown",
   "id": "d6f9d6c6",
   "metadata": {},
   "source": [
    "#### Lematizing"
   ]
  },
  {
   "cell_type": "code",
   "execution_count": 12,
   "id": "9e4abaed",
   "metadata": {},
   "outputs": [],
   "source": [
    "lemma = WordNetLemmatizer()\n",
    "lemmatizer = nltk.stem.WordNetLemmatizer()\n",
    "\n",
    "def lemmatize_text(text):\n",
    "    return  \" \".join(lemma.lemmatize(word) for word in text.split())"
   ]
  },
  {
   "cell_type": "code",
   "execution_count": 13,
   "id": "87dc1a6f",
   "metadata": {},
   "outputs": [],
   "source": [
    "def pre_processing(dataframe):\n",
    " \n",
    "    #-------------------------------------------------------------------------\n",
    "    # some words will still appear like \"he'll\", \"i'd\", ... when removed stop \n",
    "    # words we didn't found a function like stop words that could extract them  \n",
    "    # for us. Our strategy is subsitue first the \"'\" by an empty space. \n",
    "    # \"he'll\" --> \"he ll\" and both 'words' will now be part of stop words.\n",
    "    # ------------------------------------------------------------------------\n",
    "    \n",
    "    dataframe['sentence'] = dataframe['sentence'].str.replace(\"'\",\" \")\n",
    "    \n",
    "    dataframe['sentence'] = dataframe['sentence'].apply(lambda x: \" \".join([char for char in x.split() if not char.isdigit()]))\n",
    "    \n",
    "\n",
    "#     dataframe['sentence'] = dataframe['sentence'].str.replace(r\"[0-9]+,?([0-9]*)?\",'[DIGIT]')\n",
    "    \n",
    "    stop = set(stopwords.words('english'))\n",
    "    \n",
    "    # removing any pontuaction but '!' and '?' because they can have meaning\n",
    "    # for the emtion's classification\n",
    "    exclude = set(filter(lambda n: n not in ['!','?'], string.punctuation))\n",
    "    \n",
    "    dataframe['sentence'] = dataframe['sentence'].apply(lambda x: \" \".join([char for char in x.split() if char not in stop.union(exclude) ]))\n",
    "    \n",
    "    dataframe['sentence'] = dataframe['sentence'].str.lower()\n",
    "    \n",
    "    dataframe['sentence'] = dataframe['sentence'].apply(lambda x: ' '.join([word for word in x.split() if word not in (stop)]))\n",
    "    \n",
    "    dataframe['sentence'] = dataframe['sentence'].apply(lambda x: \" \".join([char for char in x.split() if not char.isdigit()]))\n",
    "    \n",
    "    dataframe['sentence'] = dataframe['sentence'].apply(lemmatize_text)\n",
    "    \n",
    "    return dataframe"
   ]
  },
  {
   "cell_type": "code",
   "execution_count": 14,
   "id": "049bd7fa",
   "metadata": {},
   "outputs": [],
   "source": [
    "df = dataframe.copy()\n",
    "df = pre_processing(df)"
   ]
  },
  {
   "cell_type": "code",
   "execution_count": 15,
   "id": "27cddebc",
   "metadata": {},
   "outputs": [],
   "source": [
    "df = df.drop(df.loc[df['sentence'] == ''].index)"
   ]
  },
  {
   "cell_type": "markdown",
   "id": "2a7bdea1",
   "metadata": {},
   "source": [
    "### Train and Test"
   ]
  },
  {
   "cell_type": "code",
   "execution_count": 16,
   "id": "fc5d9c68",
   "metadata": {},
   "outputs": [],
   "source": [
    "X_train = df['sentence']\n",
    "y_train = df['emotion']"
   ]
  },
  {
   "cell_type": "code",
   "execution_count": 17,
   "id": "d450245a",
   "metadata": {},
   "outputs": [],
   "source": [
    "df_dev = pre_processing(df_dev)\n",
    "\n",
    "X_dev =  df_dev['sentence']\n",
    "y_dev = df_dev['emotion']"
   ]
  },
  {
   "cell_type": "markdown",
   "id": "7874fb18",
   "metadata": {},
   "source": [
    "### Evaluate Model"
   ]
  },
  {
   "cell_type": "code",
   "execution_count": 18,
   "id": "6a24f177",
   "metadata": {},
   "outputs": [],
   "source": [
    "def apply_classifier(model,X_train,y_train,X_dev,y_dev):\n",
    "    y_train = np.array(y_train)\n",
    "    model_ = model.fit(X_train,y_train)\n",
    "    y_pred_dev = model_.predict(X_dev)\n",
    "    f1_dev = f1_score(y_dev,y_pred_dev, average = 'micro')\n",
    "    print('Dev F1 Score:', f1_dev)"
   ]
  },
  {
   "cell_type": "markdown",
   "id": "b3222d0b",
   "metadata": {},
   "source": [
    "## Feature Extraction "
   ]
  },
  {
   "cell_type": "markdown",
   "id": "4928163d",
   "metadata": {},
   "source": [
    "### Bag of Words "
   ]
  },
  {
   "cell_type": "markdown",
   "id": "e7213515",
   "metadata": {},
   "source": [
    "- . <b>Using Count Vectorizer <b>"
   ]
  },
  {
   "cell_type": "code",
   "execution_count": 19,
   "id": "3defc0c3",
   "metadata": {},
   "outputs": [],
   "source": [
    "cv = CountVectorizer(max_df=0.9, binary=True)"
   ]
  },
  {
   "cell_type": "code",
   "execution_count": 20,
   "id": "7d8f902c",
   "metadata": {},
   "outputs": [],
   "source": [
    "X_train_count = X_train.copy()\n",
    "X_dev_count = X_dev.copy()"
   ]
  },
  {
   "cell_type": "code",
   "execution_count": 21,
   "id": "55c9a033",
   "metadata": {},
   "outputs": [],
   "source": [
    "X_train_cv = cv.fit_transform(X_train_count) \n",
    "X_dev_cv = cv.transform(X_dev_count)"
   ]
  },
  {
   "cell_type": "markdown",
   "id": "c5af03ce",
   "metadata": {},
   "source": [
    " <b>GridSearch  for Knn<b>"
   ]
  },
  {
   "cell_type": "code",
   "execution_count": 22,
   "id": "22a6cc2a",
   "metadata": {},
   "outputs": [],
   "source": [
    "model_params_clf = {\n",
    "    'KNN' : {\n",
    "        'model' :KNeighborsClassifier(n_jobs=-1),\n",
    "        'params':{\n",
    "            'n_neighbors': [5,10,15,17,19,21,22,23,25],\n",
    "            'weights': ['distance'],\n",
    "            'algorithm' : ['brute','auto'],\n",
    "            'metric': ['euclidean','cosine','jaccard']\n",
    "        }\n",
    "    }\n",
    "}"
   ]
  },
  {
   "cell_type": "code",
   "execution_count": 23,
   "id": "29d175ac",
   "metadata": {},
   "outputs": [],
   "source": [
    "# scores = []\n",
    "\n",
    "# for model_name, mp in model_params_clf.items():\n",
    "#     clf = GridSearchCV(mp['model'], mp['params'], cv=5, return_train_score=False, n_jobs=-1,scoring = 'f1_micro')\n",
    "#     clf.fit(X_train_cv,y_train)\n",
    "#     scores.append({\n",
    "#         'model': model_name,\n",
    "#         'best_score': clf.best_score_,\n",
    "#         'best_params': clf.best_params_,\n",
    "#         'best_estimator': clf.best_estimator_\n",
    "#     })\n",
    "\n",
    "# scores"
   ]
  },
  {
   "cell_type": "code",
   "execution_count": 24,
   "id": "1d9dde4c",
   "metadata": {},
   "outputs": [],
   "source": [
    "KNN_model = KNeighborsClassifier(metric='cosine', n_jobs=-1, n_neighbors=22,weights='distance')"
   ]
  },
  {
   "cell_type": "markdown",
   "id": "b8e958a3",
   "metadata": {},
   "source": [
    "<b>GridSearch  for SVC<b>"
   ]
  },
  {
   "cell_type": "code",
   "execution_count": 25,
   "id": "1f67aedf",
   "metadata": {},
   "outputs": [],
   "source": [
    "model_params_clf = {\n",
    "    'LinearSVC' : {\n",
    "        'model' :svm.SVC(kernel='linear'),\n",
    "        'params':{\n",
    "            'C': [0.1,0.5, 0.7,1,1.2,1.5],\n",
    "            'gamma': ['auto', 'scale']\n",
    "        }\n",
    "    }\n",
    "}"
   ]
  },
  {
   "cell_type": "code",
   "execution_count": 26,
   "id": "44c36e55",
   "metadata": {},
   "outputs": [],
   "source": [
    "# scores = []\n",
    "\n",
    "# for model_name, mp in model_params_clf.items():\n",
    "#     clf = GridSearchCV(mp['model'], mp['params'], cv=5, return_train_score=False, n_jobs=-1,scoring = 'f1_micro')\n",
    "#     clf.fit(X_train_cv,y_train)\n",
    "#     scores.append({\n",
    "#         'model': model_name,\n",
    "#         'best_score': clf.best_score_,\n",
    "#         'best_params': clf.best_params_,\n",
    "#         'best_estimator': clf.best_estimator_\n",
    "#     })\n",
    "\n",
    "# scores"
   ]
  },
  {
   "cell_type": "code",
   "execution_count": 27,
   "id": "2a8b8d5b",
   "metadata": {},
   "outputs": [],
   "source": [
    "SVC_model = svm.SVC(C=0.7, gamma='auto', kernel='linear')"
   ]
  },
  {
   "cell_type": "markdown",
   "id": "a4b8ff23",
   "metadata": {},
   "source": [
    "<b> GridSearch for LogisicRegression<b>"
   ]
  },
  {
   "cell_type": "code",
   "execution_count": 28,
   "id": "2a36dc20",
   "metadata": {},
   "outputs": [],
   "source": [
    "model_params_clf = {\n",
    "    'Logistic' : {\n",
    "        'model' :LogisticRegression(solver='lbfgs',multi_class='multinomial', random_state = 1, n_jobs=-1),\n",
    "        'params':{\n",
    "            'C': [0.1,0.5, 0.7,1,1.2,1.5]\n",
    "        }\n",
    "    }\n",
    "}"
   ]
  },
  {
   "cell_type": "code",
   "execution_count": 29,
   "id": "04bafda2",
   "metadata": {},
   "outputs": [],
   "source": [
    "# scores = []\n",
    "\n",
    "# for model_name, mp in model_params_clf.items():\n",
    "#     clf = GridSearchCV(mp['model'], mp['params'], cv=5, return_train_score=False, n_jobs=-1,scoring = 'f1_micro')\n",
    "#     clf.fit(X_train_cv,y_train)\n",
    "#     scores.append({\n",
    "#         'model': model_name,\n",
    "#         'best_score': clf.best_score_,\n",
    "#         'best_params': clf.best_params_,\n",
    "#         'best_estimator': clf.best_estimator_\n",
    "#     })\n",
    "\n",
    "# scores"
   ]
  },
  {
   "cell_type": "code",
   "execution_count": 30,
   "id": "579f0678",
   "metadata": {},
   "outputs": [],
   "source": [
    "Multi_Logistic_model = LogisticRegression(C=1,multi_class='multinomial', n_jobs=-1, random_state=1)"
   ]
  },
  {
   "cell_type": "markdown",
   "id": "b790bf79",
   "metadata": {},
   "source": [
    "<b> Multinomial Naive Bays <b>"
   ]
  },
  {
   "cell_type": "markdown",
   "id": "e668c7f2",
   "metadata": {},
   "source": [
    "We only want to test one parameter, so it's not necessary to do a Grid Search"
   ]
  },
  {
   "cell_type": "code",
   "execution_count": 31,
   "id": "92f6c171",
   "metadata": {},
   "outputs": [
    {
     "data": {
      "text/plain": [
       "0.341"
      ]
     },
     "execution_count": 31,
     "metadata": {},
     "output_type": "execute_result"
    }
   ],
   "source": [
    "mnb_model = MultinomialNB()\n",
    "mnb_model.fit(X_train_cv,y_train)\n",
    "predict = mnb_model.predict(X_dev_cv)\n",
    "score = f1_score(predict,y_dev, average = 'micro')\n",
    "score"
   ]
  },
  {
   "cell_type": "code",
   "execution_count": 32,
   "id": "1b1c0605",
   "metadata": {},
   "outputs": [
    {
     "data": {
      "text/plain": [
       "0.345"
      ]
     },
     "execution_count": 32,
     "metadata": {},
     "output_type": "execute_result"
    }
   ],
   "source": [
    "MNB_model = MultinomialNB(fit_prior=False)\n",
    "MNB_model.fit(X_train_cv,y_train)\n",
    "predict = MNB_model.predict(X_dev_cv)\n",
    "score = f1_score(predict,y_dev, average = 'micro')\n",
    "score"
   ]
  },
  {
   "cell_type": "code",
   "execution_count": 33,
   "id": "c52ed725",
   "metadata": {},
   "outputs": [],
   "source": [
    "classifiers = [KNN_model, \n",
    "               SVC_model, \n",
    "               Multi_Logistic_model, \n",
    "               MNB_model, \n",
    "               StackingClassifier(estimators=[('Logistic',Multi_Logistic_model),('Multinomial',MNB_model)],cv=3, n_jobs = -1),\n",
    "               GradientBoostingClassifier(random_state = 1),\n",
    "               RandomForestClassifier(n_jobs=-1, random_state=1)]"
   ]
  },
  {
   "cell_type": "code",
   "execution_count": 34,
   "id": "4412a4ae",
   "metadata": {},
   "outputs": [
    {
     "name": "stdout",
     "output_type": "stream",
     "text": [
      "KNeighborsClassifier(metric='cosine', n_jobs=-1, n_neighbors=22,\n",
      "                     weights='distance')\n",
      "Dev F1 Score: 0.304\n",
      "----------------------------------------------------------------------\n",
      "----------------------------------------------------------------------\n",
      "SVC(C=0.7, gamma='auto', kernel='linear')\n",
      "Dev F1 Score: 0.342\n",
      "----------------------------------------------------------------------\n",
      "----------------------------------------------------------------------\n",
      "LogisticRegression(C=1, multi_class='multinomial', n_jobs=-1, random_state=1)\n",
      "Dev F1 Score: 0.35500000000000004\n",
      "----------------------------------------------------------------------\n",
      "----------------------------------------------------------------------\n",
      "MultinomialNB(fit_prior=False)\n",
      "Dev F1 Score: 0.345\n",
      "----------------------------------------------------------------------\n",
      "----------------------------------------------------------------------\n",
      "StackingClassifier(cv=3,\n",
      "                   estimators=[('Logistic',\n",
      "                                LogisticRegression(C=1,\n",
      "                                                   multi_class='multinomial',\n",
      "                                                   n_jobs=-1, random_state=1)),\n",
      "                               ('Multinomial', MultinomialNB(fit_prior=False))],\n",
      "                   n_jobs=-1)\n",
      "Dev F1 Score: 0.346\n",
      "----------------------------------------------------------------------\n",
      "----------------------------------------------------------------------\n",
      "GradientBoostingClassifier(random_state=1)\n",
      "Dev F1 Score: 0.32\n",
      "----------------------------------------------------------------------\n",
      "----------------------------------------------------------------------\n",
      "RandomForestClassifier(n_jobs=-1, random_state=1)\n",
      "Dev F1 Score: 0.301\n",
      "----------------------------------------------------------------------\n",
      "----------------------------------------------------------------------\n"
     ]
    }
   ],
   "source": [
    "for model in classifiers:\n",
    "    print(model)\n",
    "    apply_classifier(model,X_train_cv,y_train,X_dev_cv,y_dev)\n",
    "    print('----------------------------------------------------------------------')\n",
    "    print('----------------------------------------------------------------------')"
   ]
  },
  {
   "cell_type": "markdown",
   "id": "4df845ec",
   "metadata": {},
   "source": [
    "- . <b>Using Bigrams<b>"
   ]
  },
  {
   "cell_type": "code",
   "execution_count": 35,
   "id": "0027e053",
   "metadata": {},
   "outputs": [],
   "source": [
    "X_train_b = X_train.copy()\n",
    "X_dev_b = X_dev.copy()"
   ]
  },
  {
   "cell_type": "code",
   "execution_count": 36,
   "id": "4820944c",
   "metadata": {},
   "outputs": [],
   "source": [
    "b_gram = CountVectorizer(max_df=0.9, binary=True,ngram_range=(2,2))\n",
    "\n",
    "X_train_bgram = b_gram.fit_transform(X_train_b)\n",
    "X_dev_bgram = b_gram.transform(X_dev_b)"
   ]
  },
  {
   "cell_type": "markdown",
   "id": "764ef53e",
   "metadata": {},
   "source": [
    "<b>GridSearch  for Knn<b>"
   ]
  },
  {
   "cell_type": "code",
   "execution_count": 37,
   "id": "bd54d4c2",
   "metadata": {},
   "outputs": [],
   "source": [
    "model_params_clf = {\n",
    "    'KNN' : {\n",
    "        'model' :KNeighborsClassifier(n_jobs=-1),\n",
    "        'params':{\n",
    "            'n_neighbors': [5,10,15,17,19,21,22,23,25],\n",
    "            'weights': ['distance'],\n",
    "            'algorithm' : ['brute','auto'],\n",
    "            'metric': ['euclidean','cosine']\n",
    "        }\n",
    "    }\n",
    "}"
   ]
  },
  {
   "cell_type": "code",
   "execution_count": 38,
   "id": "9dddb9f0",
   "metadata": {},
   "outputs": [],
   "source": [
    "# scores = []\n",
    "\n",
    "# for model_name, mp in model_params_clf.items():\n",
    "#     clf = GridSearchCV(mp['model'], mp['params'], cv=5, return_train_score=False, n_jobs=-1,scoring = 'f1_micro')\n",
    "#     clf.fit(X_train_bgram,y_train)\n",
    "#     scores.append({\n",
    "#         'model': model_name,\n",
    "#         'best_score': clf.best_score_,\n",
    "#         'best_params': clf.best_params_,\n",
    "#         'best_estimator': clf.best_estimator_\n",
    "#     })\n",
    "\n",
    "# scores"
   ]
  },
  {
   "cell_type": "code",
   "execution_count": 39,
   "id": "f95bd0dd",
   "metadata": {},
   "outputs": [],
   "source": [
    "KNN_model =  KNeighborsClassifier(algorithm='brute', metric='cosine', n_jobs=-1,\n",
    "                       n_neighbors=10, weights='distance')"
   ]
  },
  {
   "cell_type": "markdown",
   "id": "5262cc92",
   "metadata": {},
   "source": [
    "<b>GridSearch  for SVC<b>"
   ]
  },
  {
   "cell_type": "code",
   "execution_count": 40,
   "id": "b419a976",
   "metadata": {},
   "outputs": [],
   "source": [
    "model_params_clf = {\n",
    "    'LinearSVC' : {\n",
    "        'model' :svm.SVC(kernel='linear'),\n",
    "        'params':{\n",
    "            'C': [0.1,0.5, 0.7,1,1.2,1.5],\n",
    "            'gamma': ['auto', 'scale']\n",
    "        }\n",
    "    }\n",
    "}"
   ]
  },
  {
   "cell_type": "code",
   "execution_count": 41,
   "id": "2578447c",
   "metadata": {},
   "outputs": [],
   "source": [
    "# scores = []\n",
    "\n",
    "# for model_name, mp in model_params_clf.items():\n",
    "#     clf = GridSearchCV(mp['model'], mp['params'], cv=5, return_train_score=False, n_jobs=-1,scoring = 'f1_micro')\n",
    "#     clf.fit(X_train_bgram,y_train)\n",
    "#     scores.append({\n",
    "#         'model': model_name,\n",
    "#         'best_score': clf.best_score_,\n",
    "#         'best_params': clf.best_params_,\n",
    "#         'best_estimator': clf.best_estimator_\n",
    "#     })\n",
    "\n",
    "# scores"
   ]
  },
  {
   "cell_type": "code",
   "execution_count": 42,
   "id": "c5531d17",
   "metadata": {},
   "outputs": [],
   "source": [
    "SVC_model = svm.SVC(C=0.7, gamma='auto', kernel='linear')"
   ]
  },
  {
   "cell_type": "markdown",
   "id": "faf9061f",
   "metadata": {},
   "source": [
    "<b>GridSearch for LogisicRegression<b>"
   ]
  },
  {
   "cell_type": "code",
   "execution_count": 43,
   "id": "fce9e350",
   "metadata": {},
   "outputs": [],
   "source": [
    "model_params_clf = {\n",
    "    'Logistic' : {\n",
    "        'model' :LogisticRegression(solver='lbfgs',multi_class='multinomial', random_state = 1, n_jobs=-1),\n",
    "        'params':{\n",
    "            'C': [0.1,0.5, 0.7,1,1.2,1.5]\n",
    "        }\n",
    "    }\n",
    "}"
   ]
  },
  {
   "cell_type": "code",
   "execution_count": 44,
   "id": "cd9df403",
   "metadata": {},
   "outputs": [],
   "source": [
    "# scores = []\n",
    "\n",
    "# for model_name, mp in model_params_clf.items():\n",
    "#     clf = GridSearchCV(mp['model'], mp['params'], cv=5, return_train_score=False, n_jobs=-1,scoring = 'f1_micro')\n",
    "#     clf.fit(X_train_bgram,y_train)\n",
    "#     scores.append({\n",
    "#         'model': model_name,\n",
    "#         'best_score': clf.best_score_,\n",
    "#         'best_params': clf.best_params_,\n",
    "#         'best_estimator': clf.best_estimator_\n",
    "#     })\n",
    "\n",
    "# scores"
   ]
  },
  {
   "cell_type": "code",
   "execution_count": 45,
   "id": "62d24f51",
   "metadata": {},
   "outputs": [],
   "source": [
    "Multi_Logistic_model = LogisticRegression(C=1.5,multi_class='multinomial', n_jobs=-1, random_state=1)"
   ]
  },
  {
   "cell_type": "markdown",
   "id": "5d5a2b8a",
   "metadata": {},
   "source": [
    "<b> Multinomial Naive Bays<b>"
   ]
  },
  {
   "cell_type": "markdown",
   "id": "7482b9c6",
   "metadata": {},
   "source": [
    "We only want to test one parameter, so it's not necessary to do a Grid Search"
   ]
  },
  {
   "cell_type": "code",
   "execution_count": 46,
   "id": "2326d3a9",
   "metadata": {},
   "outputs": [
    {
     "data": {
      "text/plain": [
       "0.246"
      ]
     },
     "execution_count": 46,
     "metadata": {},
     "output_type": "execute_result"
    }
   ],
   "source": [
    "mnb_model = MultinomialNB()\n",
    "mnb_model.fit(X_train_bgram,y_train)\n",
    "predict = mnb_model.predict(X_dev_bgram)\n",
    "score = f1_score(predict,y_dev, average = 'micro')\n",
    "score"
   ]
  },
  {
   "cell_type": "code",
   "execution_count": 47,
   "id": "886c7225",
   "metadata": {},
   "outputs": [
    {
     "data": {
      "text/plain": [
       "0.246"
      ]
     },
     "execution_count": 47,
     "metadata": {},
     "output_type": "execute_result"
    }
   ],
   "source": [
    "MNB_model = MultinomialNB(fit_prior=False)\n",
    "MNB_model.fit(X_train_bgram,y_train)\n",
    "predict = MNB_model.predict(X_dev_bgram)\n",
    "score = f1_score(predict,y_dev, average = 'micro')\n",
    "score"
   ]
  },
  {
   "cell_type": "code",
   "execution_count": 48,
   "id": "db3043ff",
   "metadata": {},
   "outputs": [],
   "source": [
    "classifiers = [KNN_model, \n",
    "               SVC_model, \n",
    "               Multi_Logistic_model, \n",
    "               MNB_model,\n",
    "               StackingClassifier(estimators=[('SVC ',SVC_model),('Logistic',Multi_Logistic_model)],cv=3, n_jobs = -1),\n",
    "               GradientBoostingClassifier(random_state = 1),\n",
    "               RandomForestClassifier(n_jobs=-1, random_state=1)]"
   ]
  },
  {
   "cell_type": "code",
   "execution_count": 49,
   "id": "c0877872",
   "metadata": {
    "scrolled": true
   },
   "outputs": [
    {
     "name": "stdout",
     "output_type": "stream",
     "text": [
      "KNeighborsClassifier(algorithm='brute', metric='cosine', n_jobs=-1,\n",
      "                     n_neighbors=10, weights='distance')\n",
      "Dev F1 Score: 0.247\n",
      "----------------------------------------------------------------------\n",
      "----------------------------------------------------------------------\n",
      "SVC(C=0.7, gamma='auto', kernel='linear')\n",
      "Dev F1 Score: 0.241\n",
      "----------------------------------------------------------------------\n",
      "----------------------------------------------------------------------\n",
      "LogisticRegression(C=1.5, multi_class='multinomial', n_jobs=-1, random_state=1)\n",
      "Dev F1 Score: 0.25\n",
      "----------------------------------------------------------------------\n",
      "----------------------------------------------------------------------\n",
      "MultinomialNB(fit_prior=False)\n",
      "Dev F1 Score: 0.246\n",
      "----------------------------------------------------------------------\n",
      "----------------------------------------------------------------------\n",
      "StackingClassifier(cv=3,\n",
      "                   estimators=[('SVC ',\n",
      "                                SVC(C=0.7, gamma='auto', kernel='linear')),\n",
      "                               ('Logistic',\n",
      "                                LogisticRegression(C=1.5,\n",
      "                                                   multi_class='multinomial',\n",
      "                                                   n_jobs=-1,\n",
      "                                                   random_state=1))],\n",
      "                   n_jobs=-1)\n",
      "Dev F1 Score: 0.246\n",
      "----------------------------------------------------------------------\n",
      "----------------------------------------------------------------------\n",
      "GradientBoostingClassifier(random_state=1)\n",
      "Dev F1 Score: 0.231\n",
      "----------------------------------------------------------------------\n",
      "----------------------------------------------------------------------\n",
      "RandomForestClassifier(n_jobs=-1, random_state=1)\n",
      "Dev F1 Score: 0.246\n",
      "----------------------------------------------------------------------\n",
      "----------------------------------------------------------------------\n"
     ]
    }
   ],
   "source": [
    "for model in classifiers:\n",
    "    print(model)\n",
    "    apply_classifier(model,X_train_bgram,y_train,X_dev_bgram,y_dev)\n",
    "    print('----------------------------------------------------------------------')\n",
    "    print('----------------------------------------------------------------------')"
   ]
  },
  {
   "cell_type": "markdown",
   "id": "448a6088",
   "metadata": {},
   "source": [
    "- . <b>Using Trigrams<b>"
   ]
  },
  {
   "cell_type": "code",
   "execution_count": 50,
   "id": "30046a4e",
   "metadata": {},
   "outputs": [],
   "source": [
    "X_train_t = X_train.copy()\n",
    "X_dev_t = X_dev.copy()"
   ]
  },
  {
   "cell_type": "code",
   "execution_count": 51,
   "id": "5b43ef2b",
   "metadata": {},
   "outputs": [],
   "source": [
    "t_gram = CountVectorizer(max_df=0.9, binary=True,ngram_range=(3,3))\n",
    "\n",
    "X_train_tgram = t_gram.fit_transform(X_train_t)\n",
    "X_dev_tgram = t_gram.transform(X_dev_t)"
   ]
  },
  {
   "cell_type": "markdown",
   "id": "33bbf9b7",
   "metadata": {},
   "source": [
    "<b>GridSearch  for Knn"
   ]
  },
  {
   "cell_type": "code",
   "execution_count": 52,
   "id": "334038c3",
   "metadata": {},
   "outputs": [],
   "source": [
    "model_params_clf = {\n",
    "    'KNN' : {\n",
    "        'model' :KNeighborsClassifier(n_jobs=-1),\n",
    "        'params':{\n",
    "            'n_neighbors': [5,10,15,17,19,21,22,23,25],\n",
    "            'weights': ['distance'],\n",
    "            'algorithm' : ['brute','auto'],\n",
    "            'metric': ['euclidean','cosine']\n",
    "        }\n",
    "    }\n",
    "}"
   ]
  },
  {
   "cell_type": "code",
   "execution_count": 53,
   "id": "dfe11b02",
   "metadata": {},
   "outputs": [],
   "source": [
    "# scores = []\n",
    "\n",
    "# for model_name, mp in model_params_clf.items():\n",
    "#     clf = GridSearchCV(mp['model'], mp['params'], cv=5, return_train_score=False, n_jobs=-1,scoring = 'f1_micro')\n",
    "#     clf.fit(X_train_tgram,y_train)\n",
    "#     scores.append({\n",
    "#         'model': model_name,\n",
    "#         'best_score': clf.best_score_,\n",
    "#         'best_params': clf.best_params_,\n",
    "#         'best_estimator': clf.best_estimator_\n",
    "#     })\n",
    "\n",
    "# scores"
   ]
  },
  {
   "cell_type": "code",
   "execution_count": 54,
   "id": "5e80d378",
   "metadata": {},
   "outputs": [],
   "source": [
    "KNN_model = KNeighborsClassifier(algorithm='brute', metric='euclidean', n_jobs=-1,\n",
    "                       n_neighbors=22, weights='distance')"
   ]
  },
  {
   "cell_type": "markdown",
   "id": "afd7436c",
   "metadata": {},
   "source": [
    "<b>GridSearch  for SVC"
   ]
  },
  {
   "cell_type": "code",
   "execution_count": 55,
   "id": "33fc6898",
   "metadata": {},
   "outputs": [],
   "source": [
    "model_params_clf = {\n",
    "    'LinearSVC' : {\n",
    "        'model' :svm.SVC(kernel='linear'),\n",
    "        'params':{\n",
    "            'C': [0.1,0.5, 0.7,1,1.2,1.5],\n",
    "            'gamma': ['auto', 'scale']\n",
    "        }\n",
    "    }\n",
    "}"
   ]
  },
  {
   "cell_type": "code",
   "execution_count": 56,
   "id": "6b47de17",
   "metadata": {},
   "outputs": [],
   "source": [
    "# scores = []\n",
    "\n",
    "# for model_name, mp in model_params_clf.items():\n",
    "#     clf = GridSearchCV(mp['model'], mp['params'], cv=5, return_train_score=False, n_jobs=-1,scoring = 'f1_micro')\n",
    "#     clf.fit(X_train_tgram,y_train)\n",
    "#     scores.append({\n",
    "#         'model': model_name,\n",
    "#         'best_score': clf.best_score_,\n",
    "#         'best_params': clf.best_params_,\n",
    "#         'best_estimator': clf.best_estimator_\n",
    "#     })\n",
    "\n",
    "# scores"
   ]
  },
  {
   "cell_type": "code",
   "execution_count": 57,
   "id": "1e35b223",
   "metadata": {},
   "outputs": [],
   "source": [
    "SVC_model = svm.SVC(C=1.2, gamma='auto', kernel='linear')"
   ]
  },
  {
   "cell_type": "markdown",
   "id": "bd444269",
   "metadata": {},
   "source": [
    "<b> GridSearch for LogisicRegression"
   ]
  },
  {
   "cell_type": "code",
   "execution_count": 58,
   "id": "fec2830b",
   "metadata": {},
   "outputs": [],
   "source": [
    "model_params_clf = {\n",
    "    'Logistic' : {\n",
    "        'model' :LogisticRegression(solver='lbfgs',multi_class='multinomial', random_state = 1, n_jobs=-1),\n",
    "        'params':{\n",
    "            'C': [0.1,0.5, 0.7,1,1.2,1.5]\n",
    "        }\n",
    "    }\n",
    "}"
   ]
  },
  {
   "cell_type": "code",
   "execution_count": 59,
   "id": "7df0597c",
   "metadata": {},
   "outputs": [],
   "source": [
    "# scores = []\n",
    "\n",
    "# for model_name, mp in model_params_clf.items():\n",
    "#     clf = GridSearchCV(mp['model'], mp['params'], cv=5, return_train_score=False, n_jobs=-1,scoring = 'f1_micro')\n",
    "#     clf.fit(X_train_tgram,y_train)\n",
    "#     scores.append({\n",
    "#         'model': model_name,\n",
    "#         'best_score': clf.best_score_,\n",
    "#         'best_params': clf.best_params_,\n",
    "#         'best_estimator': clf.best_estimator_\n",
    "#     })\n",
    "\n",
    "# scores"
   ]
  },
  {
   "cell_type": "code",
   "execution_count": 60,
   "id": "99d0897b",
   "metadata": {},
   "outputs": [],
   "source": [
    "Multi_Logistic_model = LogisticRegression(C=1, multi_class='multinomial', n_jobs=-1, random_state=1)"
   ]
  },
  {
   "cell_type": "markdown",
   "id": "cd0a28aa",
   "metadata": {},
   "source": [
    "<b>Multinomial Naive Bays"
   ]
  },
  {
   "cell_type": "markdown",
   "id": "0e60984c",
   "metadata": {},
   "source": [
    "We only want to test one parameter, so it's not necessary to do a Grid Search"
   ]
  },
  {
   "cell_type": "code",
   "execution_count": 61,
   "id": "ab14b910",
   "metadata": {},
   "outputs": [
    {
     "data": {
      "text/plain": [
       "0.212"
      ]
     },
     "execution_count": 61,
     "metadata": {},
     "output_type": "execute_result"
    }
   ],
   "source": [
    "mnb_model = MultinomialNB()\n",
    "mnb_model.fit(X_train_tgram,y_train)\n",
    "predict = mnb_model.predict(X_dev_tgram)\n",
    "score = f1_score(predict,y_dev, average = 'micro')\n",
    "score"
   ]
  },
  {
   "cell_type": "code",
   "execution_count": 62,
   "id": "7ddac4ad",
   "metadata": {},
   "outputs": [
    {
     "data": {
      "text/plain": [
       "0.212"
      ]
     },
     "execution_count": 62,
     "metadata": {},
     "output_type": "execute_result"
    }
   ],
   "source": [
    "MNB_model = MultinomialNB(fit_prior=False)\n",
    "MNB_model.fit(X_train_tgram,y_train)\n",
    "predict = MNB_model.predict(X_dev_tgram)\n",
    "score = f1_score(predict,y_dev, average = 'micro')\n",
    "score"
   ]
  },
  {
   "cell_type": "code",
   "execution_count": 63,
   "id": "343b8cdc",
   "metadata": {},
   "outputs": [],
   "source": [
    "classifiers = [KNN_model, \n",
    "               SVC_model, \n",
    "               Multi_Logistic_model, \n",
    "               MNB_model, \n",
    "               StackingClassifier(estimators=[('Logistic ',Multi_Logistic_model),('Logistic',Multi_Logistic_model)],cv=3, n_jobs = -1),\n",
    "               GradientBoostingClassifier(random_state = 1),\n",
    "               RandomForestClassifier(n_jobs=-1, random_state=1)]"
   ]
  },
  {
   "cell_type": "code",
   "execution_count": 64,
   "id": "f37aeff2",
   "metadata": {},
   "outputs": [
    {
     "name": "stdout",
     "output_type": "stream",
     "text": [
      "KNeighborsClassifier(algorithm='brute', metric='euclidean', n_jobs=-1,\n",
      "                     n_neighbors=22, weights='distance')\n",
      "Dev F1 Score: 0.212\n",
      "----------------------------------------------------------------------\n",
      "----------------------------------------------------------------------\n",
      "SVC(C=1.2, gamma='auto', kernel='linear')\n",
      "Dev F1 Score: 0.212\n",
      "----------------------------------------------------------------------\n",
      "----------------------------------------------------------------------\n",
      "LogisticRegression(C=1, multi_class='multinomial', n_jobs=-1, random_state=1)\n",
      "Dev F1 Score: 0.211\n",
      "----------------------------------------------------------------------\n",
      "----------------------------------------------------------------------\n",
      "MultinomialNB(fit_prior=False)\n",
      "Dev F1 Score: 0.212\n",
      "----------------------------------------------------------------------\n",
      "----------------------------------------------------------------------\n",
      "StackingClassifier(cv=3,\n",
      "                   estimators=[('Logistic ',\n",
      "                                LogisticRegression(C=1,\n",
      "                                                   multi_class='multinomial',\n",
      "                                                   n_jobs=-1, random_state=1)),\n",
      "                               ('Logistic',\n",
      "                                LogisticRegression(C=1,\n",
      "                                                   multi_class='multinomial',\n",
      "                                                   n_jobs=-1,\n",
      "                                                   random_state=1))],\n",
      "                   n_jobs=-1)\n",
      "Dev F1 Score: 0.213\n",
      "----------------------------------------------------------------------\n",
      "----------------------------------------------------------------------\n",
      "GradientBoostingClassifier(random_state=1)\n",
      "Dev F1 Score: 0.212\n",
      "----------------------------------------------------------------------\n",
      "----------------------------------------------------------------------\n",
      "RandomForestClassifier(n_jobs=-1, random_state=1)\n",
      "Dev F1 Score: 0.211\n",
      "----------------------------------------------------------------------\n",
      "----------------------------------------------------------------------\n"
     ]
    }
   ],
   "source": [
    "for model in classifiers:\n",
    "    print(model)\n",
    "    apply_classifier(model,X_train_tgram,y_train,X_dev_tgram,y_dev)\n",
    "    print('----------------------------------------------------------------------')\n",
    "    print('----------------------------------------------------------------------')"
   ]
  },
  {
   "cell_type": "markdown",
   "id": "173df5b7",
   "metadata": {},
   "source": [
    "### Using TF-IDF"
   ]
  },
  {
   "cell_type": "code",
   "execution_count": 65,
   "id": "ff739ca2",
   "metadata": {},
   "outputs": [],
   "source": [
    "X_train_tfidf = X_train.copy()\n",
    "X_dev_tfidf = X_dev.copy()"
   ]
  },
  {
   "cell_type": "code",
   "execution_count": 66,
   "id": "2f8ded19",
   "metadata": {},
   "outputs": [],
   "source": [
    "tfidf_vectorizer = TfidfVectorizer()\n",
    "\n",
    "X_train_tf = tfidf_vectorizer.fit_transform(X_train_tfidf) \n",
    "X_dev_tf = tfidf_vectorizer.transform(X_dev_tfidf)"
   ]
  },
  {
   "cell_type": "markdown",
   "id": "aabe0198",
   "metadata": {},
   "source": [
    "<b> GridSearch  for Knn"
   ]
  },
  {
   "cell_type": "code",
   "execution_count": 67,
   "id": "c18f1e88",
   "metadata": {},
   "outputs": [],
   "source": [
    "model_params_clf = {\n",
    "    'KNN' : {\n",
    "        'model' :KNeighborsClassifier(n_jobs=-1),\n",
    "        'params':{\n",
    "            'n_neighbors': [5,10,15,17,19,21,22,23,25,27],\n",
    "            'weights': ['distance'],\n",
    "            'algorithm' : ['brute','auto'],\n",
    "            'metric': ['euclidean','cosine']\n",
    "        }\n",
    "    }\n",
    "}"
   ]
  },
  {
   "cell_type": "code",
   "execution_count": 68,
   "id": "02d3cc46",
   "metadata": {},
   "outputs": [],
   "source": [
    "# scores = []\n",
    "\n",
    "# for model_name, mp in model_params_clf.items():\n",
    "#     clf = GridSearchCV(mp['model'], mp['params'], cv=5, return_train_score=False, n_jobs=-1,scoring = 'f1_micro')\n",
    "#     clf.fit(X_train_tf,y_train)\n",
    "#     scores.append({\n",
    "#         'model': model_name,\n",
    "#         'best_score': clf.best_score_,\n",
    "#         'best_params': clf.best_params_,\n",
    "#         'best_estimator': clf.best_estimator_\n",
    "#     })\n",
    "\n",
    "# scores"
   ]
  },
  {
   "cell_type": "code",
   "execution_count": 69,
   "id": "bf0da1cd",
   "metadata": {},
   "outputs": [],
   "source": [
    "KNN_model = KNeighborsClassifier(algorithm='brute', metric='cosine', n_jobs=-1,n_neighbors=25, weights='distance')"
   ]
  },
  {
   "cell_type": "markdown",
   "id": "61691433",
   "metadata": {},
   "source": [
    "<b> GridSearch  for SVC"
   ]
  },
  {
   "cell_type": "code",
   "execution_count": 70,
   "id": "f16a330d",
   "metadata": {},
   "outputs": [],
   "source": [
    "model_params_clf = {\n",
    "    'LinearSVC' : {\n",
    "        'model' :svm.SVC(kernel='linear'),\n",
    "        'params':{\n",
    "            'C': [0.1,0.5, 0.7,1,1.2,1.5],\n",
    "            'gamma': ['auto', 'scale']\n",
    "        }\n",
    "    }\n",
    "}"
   ]
  },
  {
   "cell_type": "code",
   "execution_count": 71,
   "id": "76522c0c",
   "metadata": {},
   "outputs": [],
   "source": [
    "# scores = []\n",
    "\n",
    "# for model_name, mp in model_params_clf.items():\n",
    "#     clf = GridSearchCV(mp['model'], mp['params'], cv=5, return_train_score=False, n_jobs=-1,scoring = 'f1_micro')\n",
    "#     clf.fit(X_train_tf,y_train)\n",
    "#     scores.append({\n",
    "#         'model': model_name,\n",
    "#         'best_score': clf.best_score_,\n",
    "#         'best_params': clf.best_params_,\n",
    "#         'best_estimator': clf.best_estimator_\n",
    "#     })\n",
    "\n",
    "# scores"
   ]
  },
  {
   "cell_type": "code",
   "execution_count": 72,
   "id": "bd794254",
   "metadata": {},
   "outputs": [],
   "source": [
    "SVC_model = svm.SVC(C=1, gamma='auto', kernel='linear')"
   ]
  },
  {
   "cell_type": "markdown",
   "id": "00375227",
   "metadata": {},
   "source": [
    "<b>GridSearch for LogisicRegression"
   ]
  },
  {
   "cell_type": "code",
   "execution_count": 73,
   "id": "91001d8f",
   "metadata": {},
   "outputs": [],
   "source": [
    "model_params_clf = {\n",
    "    'Logistic' : {\n",
    "        'model' :LogisticRegression(solver='lbfgs',multi_class='multinomial', random_state = 1, n_jobs=-1),\n",
    "        'params':{\n",
    "            'C': [0.1,0.5, 0.7,1,1.2,1.5]\n",
    "        }\n",
    "    }\n",
    "}"
   ]
  },
  {
   "cell_type": "code",
   "execution_count": 74,
   "id": "3a41cfe2",
   "metadata": {},
   "outputs": [],
   "source": [
    "# scores = []\n",
    "\n",
    "# for model_name, mp in model_params_clf.items():\n",
    "#     clf = GridSearchCV(mp['model'], mp['params'], cv=5, return_train_score=False, n_jobs=-1,scoring = 'f1_micro')\n",
    "#     clf.fit(X_train_tf,y_train)\n",
    "#     scores.append({\n",
    "#         'model': model_name,\n",
    "#         'best_score': clf.best_score_,\n",
    "#         'best_params': clf.best_params_,\n",
    "#         'best_estimator': clf.best_estimator_\n",
    "#     })\n",
    "\n",
    "# scores"
   ]
  },
  {
   "cell_type": "code",
   "execution_count": 75,
   "id": "fed20a38",
   "metadata": {},
   "outputs": [],
   "source": [
    "Multi_Logistic_model = LogisticRegression(multi_class='multinomial', n_jobs=-1, random_state=1)"
   ]
  },
  {
   "cell_type": "markdown",
   "id": "1b88b510",
   "metadata": {},
   "source": [
    "<b>Multinomial Naive Bays"
   ]
  },
  {
   "cell_type": "markdown",
   "id": "1cd5e74d",
   "metadata": {},
   "source": [
    "We only want to test one parameter, so it's not necessary to do a Grid Search"
   ]
  },
  {
   "cell_type": "code",
   "execution_count": 76,
   "id": "3f9cbee5",
   "metadata": {},
   "outputs": [
    {
     "data": {
      "text/plain": [
       "0.336"
      ]
     },
     "execution_count": 76,
     "metadata": {},
     "output_type": "execute_result"
    }
   ],
   "source": [
    "mnb_model = MultinomialNB()\n",
    "mnb_model.fit(X_train_tf,y_train)\n",
    "predict = mnb_model.predict(X_dev_tf)\n",
    "score = f1_score(predict,y_dev, average = 'micro')\n",
    "score"
   ]
  },
  {
   "cell_type": "code",
   "execution_count": 77,
   "id": "d23364d8",
   "metadata": {},
   "outputs": [
    {
     "data": {
      "text/plain": [
       "0.356"
      ]
     },
     "execution_count": 77,
     "metadata": {},
     "output_type": "execute_result"
    }
   ],
   "source": [
    "MNB_model = MultinomialNB(fit_prior=False)\n",
    "MNB_model.fit(X_train_tf,y_train)\n",
    "predict = MNB_model.predict(X_dev_tf)\n",
    "score = f1_score(predict,y_dev, average = 'micro')\n",
    "score"
   ]
  },
  {
   "cell_type": "code",
   "execution_count": 78,
   "id": "be69099a",
   "metadata": {},
   "outputs": [],
   "source": [
    "classifiers = [KNN_model, \n",
    "               SVC_model, \n",
    "               Multi_Logistic_model, \n",
    "               MNB_model, \n",
    "               StackingClassifier(estimators=[('Logistic',Multi_Logistic_model),('Naive Bays',MNB_model)],cv=3, n_jobs = -1),\n",
    "               GradientBoostingClassifier(random_state = 1),\n",
    "               RandomForestClassifier(n_jobs=-1, random_state=1)]"
   ]
  },
  {
   "cell_type": "code",
   "execution_count": 79,
   "id": "f5521e7e",
   "metadata": {},
   "outputs": [
    {
     "name": "stdout",
     "output_type": "stream",
     "text": [
      "KNeighborsClassifier(algorithm='brute', metric='cosine', n_jobs=-1,\n",
      "                     n_neighbors=25, weights='distance')\n",
      "Dev F1 Score: 0.334\n",
      "----------------------------------------------------------------------\n",
      "----------------------------------------------------------------------\n",
      "SVC(C=1, gamma='auto', kernel='linear')\n",
      "Dev F1 Score: 0.34\n",
      "----------------------------------------------------------------------\n",
      "----------------------------------------------------------------------\n",
      "LogisticRegression(multi_class='multinomial', n_jobs=-1, random_state=1)\n",
      "Dev F1 Score: 0.354\n",
      "----------------------------------------------------------------------\n",
      "----------------------------------------------------------------------\n",
      "MultinomialNB(fit_prior=False)\n",
      "Dev F1 Score: 0.356\n",
      "----------------------------------------------------------------------\n",
      "----------------------------------------------------------------------\n",
      "StackingClassifier(cv=3,\n",
      "                   estimators=[('Logistic',\n",
      "                                LogisticRegression(multi_class='multinomial',\n",
      "                                                   n_jobs=-1, random_state=1)),\n",
      "                               ('Naive Bays', MultinomialNB(fit_prior=False))],\n",
      "                   n_jobs=-1)\n",
      "Dev F1 Score: 0.351\n",
      "----------------------------------------------------------------------\n",
      "----------------------------------------------------------------------\n",
      "GradientBoostingClassifier(random_state=1)\n",
      "Dev F1 Score: 0.312\n",
      "----------------------------------------------------------------------\n",
      "----------------------------------------------------------------------\n",
      "RandomForestClassifier(n_jobs=-1, random_state=1)\n",
      "Dev F1 Score: 0.315\n",
      "----------------------------------------------------------------------\n",
      "----------------------------------------------------------------------\n"
     ]
    }
   ],
   "source": [
    "for model in classifiers:\n",
    "    print(model)\n",
    "    apply_classifier(model,X_train_tf,y_train,X_dev_tf,y_dev)\n",
    "    print('----------------------------------------------------------------------')\n",
    "    print('----------------------------------------------------------------------')"
   ]
  },
  {
   "cell_type": "markdown",
   "id": "cb60748a",
   "metadata": {},
   "source": [
    "### Word2Vec + CNN "
   ]
  },
  {
   "cell_type": "markdown",
   "id": "8a468325",
   "metadata": {},
   "source": [
    "#### Word2Vec"
   ]
  },
  {
   "cell_type": "code",
   "execution_count": 80,
   "id": "05374d38",
   "metadata": {},
   "outputs": [],
   "source": [
    "y = df['emotion']\n",
    "y = to_categorical(y)"
   ]
  },
  {
   "cell_type": "code",
   "execution_count": 81,
   "id": "fe3409cc",
   "metadata": {},
   "outputs": [],
   "source": [
    "df_w2v = df['sentence'].copy()"
   ]
  },
  {
   "cell_type": "code",
   "execution_count": 82,
   "id": "9de1da81",
   "metadata": {},
   "outputs": [],
   "source": [
    "token = Tokenizer()\n",
    "token.fit_on_texts(df_w2v)"
   ]
  },
  {
   "cell_type": "code",
   "execution_count": 83,
   "id": "0868f8cc",
   "metadata": {},
   "outputs": [],
   "source": [
    "text = token.texts_to_sequences(df_w2v)\n",
    "text = pad_sequences(text, padding='post',maxlen = 25)"
   ]
  },
  {
   "cell_type": "code",
   "execution_count": 84,
   "id": "f25ff973",
   "metadata": {},
   "outputs": [],
   "source": [
    "X_dev_w2v = token.texts_to_sequences(X_dev)\n",
    "X_dev_w2v = pad_sequences(X_dev_w2v, padding='post',maxlen = 25)\n",
    "y_dev_w2v = to_categorical(y_dev)"
   ]
  },
  {
   "cell_type": "code",
   "execution_count": 85,
   "id": "3f731d81",
   "metadata": {},
   "outputs": [],
   "source": [
    "X_train_w2v = text.copy()\n",
    "y_train_w2v = y.copy() "
   ]
  },
  {
   "cell_type": "code",
   "execution_count": 86,
   "id": "920dccd9",
   "metadata": {},
   "outputs": [],
   "source": [
    "classifiers = [KNN_model, \n",
    "#                SVC_model, \n",
    "               Multi_Logistic_model, \n",
    "               MNB_model,\n",
    "               StackingClassifier(estimators=[('Logistic',Multi_Logistic_model),('Naive Bays',MNB_model)],cv=3, n_jobs = -1), \n",
    "               GradientBoostingClassifier(random_state = 1),\n",
    "               RandomForestClassifier(n_jobs=-1, random_state=1)]"
   ]
  },
  {
   "cell_type": "code",
   "execution_count": 87,
   "id": "909e949d",
   "metadata": {},
   "outputs": [
    {
     "name": "stdout",
     "output_type": "stream",
     "text": [
      "KNeighborsClassifier(algorithm='brute', metric='cosine', n_jobs=-1,\n",
      "                     n_neighbors=25, weights='distance')\n",
      "Dev F1 Score: 0.16\n",
      "----------------------------------------------------------------------\n",
      "----------------------------------------------------------------------\n",
      "LogisticRegression(multi_class='multinomial', n_jobs=-1, random_state=1)\n",
      "Dev F1 Score: 0.208\n",
      "----------------------------------------------------------------------\n",
      "----------------------------------------------------------------------\n",
      "MultinomialNB(fit_prior=False)\n",
      "Dev F1 Score: 0.11200000000000002\n",
      "----------------------------------------------------------------------\n",
      "----------------------------------------------------------------------\n",
      "StackingClassifier(cv=3,\n",
      "                   estimators=[('Logistic',\n",
      "                                LogisticRegression(multi_class='multinomial',\n",
      "                                                   n_jobs=-1, random_state=1)),\n",
      "                               ('Naive Bays', MultinomialNB(fit_prior=False))],\n",
      "                   n_jobs=-1)\n",
      "Dev F1 Score: 0.212\n",
      "----------------------------------------------------------------------\n",
      "----------------------------------------------------------------------\n",
      "GradientBoostingClassifier(random_state=1)\n",
      "Dev F1 Score: 0.232\n",
      "----------------------------------------------------------------------\n",
      "----------------------------------------------------------------------\n",
      "RandomForestClassifier(n_jobs=-1, random_state=1)\n",
      "Dev F1 Score: 0.207\n",
      "----------------------------------------------------------------------\n",
      "----------------------------------------------------------------------\n"
     ]
    }
   ],
   "source": [
    "for model in classifiers:\n",
    "    print(model)\n",
    "    apply_classifier(model,X_train_w2v,y_train,X_dev_w2v,y_dev)\n",
    "    print('----------------------------------------------------------------------')\n",
    "    print('----------------------------------------------------------------------')"
   ]
  },
  {
   "cell_type": "markdown",
   "id": "80b90433",
   "metadata": {},
   "source": [
    "#### CNN"
   ]
  },
  {
   "cell_type": "code",
   "execution_count": 88,
   "id": "f50f43a4",
   "metadata": {},
   "outputs": [
    {
     "data": {
      "text/plain": [
       "6577"
      ]
     },
     "execution_count": 88,
     "metadata": {},
     "output_type": "execute_result"
    }
   ],
   "source": [
    "vocab = len(token.word_index) + 1\n",
    "vocab"
   ]
  },
  {
   "cell_type": "code",
   "execution_count": 89,
   "id": "23f2672c",
   "metadata": {},
   "outputs": [
    {
     "name": "stdout",
     "output_type": "stream",
     "text": [
      "Model: \"sequential\"\n",
      "_________________________________________________________________\n",
      " Layer (type)                Output Shape              Param #   \n",
      "=================================================================\n",
      " embedding (Embedding)       (None, 25, 128)           841856    \n",
      "                                                                 \n",
      " conv1d (Conv1D)             (None, 18, 128)           131200    \n",
      "                                                                 \n",
      " max_pooling1d (MaxPooling1D  (None, 9, 128)           0         \n",
      " )                                                               \n",
      "                                                                 \n",
      " dropout (Dropout)           (None, 9, 128)            0         \n",
      "                                                                 \n",
      " dense (Dense)               (None, 9, 128)            16512     \n",
      "                                                                 \n",
      " max_pooling1d_1 (MaxPooling  (None, 4, 128)           0         \n",
      " 1D)                                                             \n",
      "                                                                 \n",
      " dropout_1 (Dropout)         (None, 4, 128)            0         \n",
      "                                                                 \n",
      " dense_1 (Dense)             (None, 4, 64)             8256      \n",
      "                                                                 \n",
      " max_pooling1d_2 (MaxPooling  (None, 2, 64)            0         \n",
      " 1D)                                                             \n",
      "                                                                 \n",
      " dropout_2 (Dropout)         (None, 2, 64)             0         \n",
      "                                                                 \n",
      " dense_2 (Dense)             (None, 2, 32)             2080      \n",
      "                                                                 \n",
      " global_max_pooling1d (Globa  (None, 32)               0         \n",
      " lMaxPooling1D)                                                  \n",
      "                                                                 \n",
      " flatten (Flatten)           (None, 32)                0         \n",
      "                                                                 \n",
      " dense_3 (Dense)             (None, 16)                528       \n",
      "                                                                 \n",
      " dense_4 (Dense)             (None, 9)                 153       \n",
      "                                                                 \n",
      "=================================================================\n",
      "Total params: 1,000,585\n",
      "Trainable params: 1,000,585\n",
      "Non-trainable params: 0\n",
      "_________________________________________________________________\n"
     ]
    }
   ],
   "source": [
    "model = Sequential()\n",
    "model.add(Embedding(vocab ,128, input_length = 25))\n",
    "model.add(Conv1D(128,8,activation = 'relu'))\n",
    "model.add(MaxPooling1D(2))\n",
    "model.add(Dropout(0.5))\n",
    "\n",
    "model.add(Dense(128,activation = 'relu'))\n",
    "model.add(MaxPooling1D(2))\n",
    "model.add(Dropout(0.5))\n",
    "\n",
    "model.add(Dense(64,activation = 'relu'))\n",
    "model.add(MaxPooling1D(2))\n",
    "model.add(Dropout(0.5))\n",
    "\n",
    "model.add(Dense(32, activation = 'relu'))\n",
    "model.add(GlobalMaxPooling1D())\n",
    "\n",
    "model.add(Flatten())\n",
    "\n",
    "model.add(Dense(16, activation = 'relu'))\n",
    "model.add(Dense(9, activation = 'softmax'))\n",
    "\n",
    "model.summary()"
   ]
  },
  {
   "cell_type": "code",
   "execution_count": 90,
   "id": "4ed7630e",
   "metadata": {},
   "outputs": [],
   "source": [
    "model.compile(optimizer = 'adam',loss = 'categorical_crossentropy', metrics = ['accuracy'])"
   ]
  },
  {
   "cell_type": "code",
   "execution_count": 91,
   "id": "d2eb8170",
   "metadata": {},
   "outputs": [],
   "source": [
    "early = EarlyStopping(monitor='val_loss', mode='min', patience=3)\n",
    "learning_rate_reduction = ReduceLROnPlateau(monitor='val_loss', patience = 2, verbose=1,factor=0.3, min_lr=0.000001)\n",
    "callbacks_list = [ early, learning_rate_reduction]"
   ]
  },
  {
   "cell_type": "code",
   "execution_count": 93,
   "id": "6d2c88e6",
   "metadata": {},
   "outputs": [
    {
     "name": "stdout",
     "output_type": "stream",
     "text": [
      "Epoch 1/200\n",
      "109/109 [==============================] - 35s 263ms/step - loss: 2.1020 - accuracy: 0.1651 - val_loss: 2.0894 - val_accuracy: 0.2110 - lr: 0.0010\n",
      "Epoch 2/200\n",
      "109/109 [==============================] - 27s 245ms/step - loss: 2.0449 - accuracy: 0.2106 - val_loss: 2.0634 - val_accuracy: 0.2110 - lr: 0.0010\n",
      "Epoch 3/200\n",
      "109/109 [==============================] - 27s 248ms/step - loss: 2.0395 - accuracy: 0.2146 - val_loss: 2.0396 - val_accuracy: 0.2110 - lr: 0.0010\n",
      "Epoch 4/200\n",
      "109/109 [==============================] - 27s 246ms/step - loss: 2.0126 - accuracy: 0.2132 - val_loss: 1.9913 - val_accuracy: 0.2190 - lr: 0.0010\n",
      "Epoch 5/200\n",
      "109/109 [==============================] - 25s 226ms/step - loss: 1.9215 - accuracy: 0.2486 - val_loss: 1.9268 - val_accuracy: 0.2390 - lr: 0.0010\n",
      "Epoch 6/200\n",
      "109/109 [==============================] - 24s 226ms/step - loss: 1.7631 - accuracy: 0.3162 - val_loss: 1.9360 - val_accuracy: 0.2420 - lr: 0.0010\n",
      "Epoch 7/200\n",
      "109/109 [==============================] - ETA: 0s - loss: 1.6213 - accuracy: 0.3769\n",
      "Epoch 7: ReduceLROnPlateau reducing learning rate to 0.0003000000142492354.\n",
      "109/109 [==============================] - 27s 248ms/step - loss: 1.6213 - accuracy: 0.3769 - val_loss: 2.0407 - val_accuracy: 0.2580 - lr: 0.0010\n",
      "Epoch 8/200\n",
      "109/109 [==============================] - 28s 255ms/step - loss: 1.4711 - accuracy: 0.4346 - val_loss: 2.1329 - val_accuracy: 0.2550 - lr: 3.0000e-04\n"
     ]
    }
   ],
   "source": [
    "hist = model.fit(X_train_w2v,y_train_w2v, \n",
    "          batch_size=128,\n",
    "          epochs = 200,\n",
    "          validation_data = (X_dev_w2v,y_dev_w2v),\n",
    "          callbacks = callbacks_list)"
   ]
  },
  {
   "cell_type": "code",
   "execution_count": 94,
   "id": "e5221b69",
   "metadata": {},
   "outputs": [
    {
     "data": {
      "image/png": "[encoded data removed]",
      "text/plain": [
       "<Figure size 432x288 with 1 Axes>"
      ]
     },
     "metadata": {
      "needs_background": "light"
     },
     "output_type": "display_data"
    }
   ],
   "source": [
    "loss_train = hist.history['accuracy']\n",
    "loss_val = hist.history['val_accuracy']\n",
    "epochs = range(1,9)\n",
    "plt.plot(epochs, loss_train, 'g', label='Training accuracy')\n",
    "plt.plot(epochs, loss_val, 'b', label='Validation accuracy')\n",
    "plt.title('Training and Validation accuracy')\n",
    "plt.xlabel('Epochs')\n",
    "plt.ylabel('Accuracy')\n",
    "plt.legend()\n",
    "plt.show()"
   ]
  },
  {
   "cell_type": "code",
   "execution_count": 95,
   "id": "25c3258b",
   "metadata": {},
   "outputs": [
    {
     "data": {
      "image/png": "[encoded data removed]",
      "text/plain": [
       "<Figure size 432x288 with 1 Axes>"
      ]
     },
     "metadata": {
      "needs_background": "light"
     },
     "output_type": "display_data"
    }
   ],
   "source": [
    "loss_train = hist.history['loss']\n",
    "loss_val = hist.history['val_loss']\n",
    "epochs = range(1,9)\n",
    "plt.plot(epochs, loss_train, 'g', label='Training loss')\n",
    "plt.plot(epochs, loss_val, 'b', label='Validation loss')\n",
    "plt.title('Training and Validation loss')\n",
    "plt.xlabel('Epochs')\n",
    "plt.ylabel('Loss')\n",
    "plt.legend()\n",
    "plt.show()"
   ]
  },
  {
   "cell_type": "code",
   "execution_count": 96,
   "id": "2b5c70c6",
   "metadata": {},
   "outputs": [
    {
     "name": "stdout",
     "output_type": "stream",
     "text": [
      "Training Accuracy: 43.46%\n",
      "Validation Accuracy: 25.5%\n"
     ]
    }
   ],
   "source": [
    "print(\"Training Accuracy: \"+str(np.round(hist.history[\"accuracy\"][-1]*100,2))+\"%\")\n",
    "print(\"Validation Accuracy: \"+str(np.round(hist.history[\"val_accuracy\"][-1]*100,2))+\"%\")"
   ]
  },
  {
   "cell_type": "code",
   "execution_count": 97,
   "id": "b2c73c65",
   "metadata": {},
   "outputs": [],
   "source": [
    "predictions = model.predict(X_dev_w2v)"
   ]
  },
  {
   "cell_type": "code",
   "execution_count": 98,
   "id": "d507ec7b",
   "metadata": {},
   "outputs": [],
   "source": [
    "predictions = np.argmax(predictions, axis=1)"
   ]
  },
  {
   "cell_type": "code",
   "execution_count": 99,
   "id": "f5bec353",
   "metadata": {},
   "outputs": [
    {
     "data": {
      "text/plain": [
       "0.255"
      ]
     },
     "execution_count": 99,
     "metadata": {},
     "output_type": "execute_result"
    }
   ],
   "source": [
    "accuracy_score(y_dev, predictions)"
   ]
  },
  {
   "cell_type": "markdown",
   "id": "60643ced",
   "metadata": {},
   "source": [
    "## Testing "
   ]
  },
  {
   "cell_type": "markdown",
   "id": "51e66f26",
   "metadata": {},
   "source": [
    "### Weaker Baseline"
   ]
  },
  {
   "cell_type": "code",
   "execution_count": 100,
   "id": "b7f878b3",
   "metadata": {},
   "outputs": [],
   "source": [
    "model = KNeighborsClassifier(metric='cosine', n_jobs=-1, n_neighbors=22,weights='distance')"
   ]
  },
  {
   "cell_type": "code",
   "execution_count": 101,
   "id": "2577bb6b",
   "metadata": {},
   "outputs": [
    {
     "data": {
      "text/plain": [
       "KNeighborsClassifier(metric='cosine', n_jobs=-1, n_neighbors=22,\n",
       "                     weights='distance')"
      ]
     },
     "execution_count": 101,
     "metadata": {},
     "output_type": "execute_result"
    }
   ],
   "source": [
    "model.fit(X_train_cv,y_train)"
   ]
  },
  {
   "cell_type": "code",
   "execution_count": 102,
   "id": "92465e7e",
   "metadata": {},
   "outputs": [],
   "source": [
    "y_pred_dev = model.predict(X_dev_cv)"
   ]
  },
  {
   "cell_type": "code",
   "execution_count": 103,
   "id": "1ffcbfb2",
   "metadata": {},
   "outputs": [
    {
     "name": "stdout",
     "output_type": "stream",
     "text": [
      "              precision    recall  f1-score   support\n",
      "\n",
      "           1       0.31      0.55      0.39       211\n",
      "           2       0.31      0.31      0.31       170\n",
      "           3       0.19      0.05      0.08        77\n",
      "           4       0.30      0.24      0.27       104\n",
      "           5       0.38      0.36      0.37        97\n",
      "           6       0.32      0.14      0.19        87\n",
      "           7       0.23      0.20      0.21        96\n",
      "           8       0.31      0.25      0.28       158\n",
      "\n",
      "    accuracy                           0.30      1000\n",
      "   macro avg       0.29      0.26      0.26      1000\n",
      "weighted avg       0.30      0.30      0.29      1000\n",
      "\n"
     ]
    }
   ],
   "source": [
    "print(classification_report(y_dev, y_pred_dev))"
   ]
  },
  {
   "cell_type": "markdown",
   "id": "e6f5f1ed",
   "metadata": {},
   "source": [
    "### Strong Baseline"
   ]
  },
  {
   "cell_type": "code",
   "execution_count": 104,
   "id": "2b879279",
   "metadata": {},
   "outputs": [],
   "source": [
    "model = svm.SVC(C=0.7, gamma='auto', kernel='linear')"
   ]
  },
  {
   "cell_type": "code",
   "execution_count": 105,
   "id": "d28b5304",
   "metadata": {},
   "outputs": [
    {
     "data": {
      "text/plain": [
       "SVC(C=0.7, gamma='auto', kernel='linear')"
      ]
     },
     "execution_count": 105,
     "metadata": {},
     "output_type": "execute_result"
    }
   ],
   "source": [
    "model.fit(X_train_cv,y_train)"
   ]
  },
  {
   "cell_type": "code",
   "execution_count": 106,
   "id": "185499c4",
   "metadata": {},
   "outputs": [],
   "source": [
    "y_pred_dev = model.predict(X_dev_cv)"
   ]
  },
  {
   "cell_type": "code",
   "execution_count": 107,
   "id": "04f86d44",
   "metadata": {},
   "outputs": [
    {
     "name": "stdout",
     "output_type": "stream",
     "text": [
      "              precision    recall  f1-score   support\n",
      "\n",
      "           1       0.31      0.59      0.41       211\n",
      "           2       0.36      0.34      0.35       170\n",
      "           3       0.22      0.14      0.17        77\n",
      "           4       0.38      0.26      0.31       104\n",
      "           5       0.41      0.37      0.39        97\n",
      "           6       0.37      0.23      0.28        87\n",
      "           7       0.28      0.18      0.22        96\n",
      "           8       0.39      0.30      0.34       158\n",
      "\n",
      "    accuracy                           0.34      1000\n",
      "   macro avg       0.34      0.30      0.31      1000\n",
      "weighted avg       0.35      0.34      0.33      1000\n",
      "\n"
     ]
    }
   ],
   "source": [
    "print(classification_report(y_dev, y_pred_dev))"
   ]
  },
  {
   "cell_type": "markdown",
   "id": "d7f1efe2",
   "metadata": {},
   "source": [
    "### Best Model "
   ]
  },
  {
   "cell_type": "code",
   "execution_count": 108,
   "id": "8878a712",
   "metadata": {},
   "outputs": [],
   "source": [
    "model = MultinomialNB(fit_prior=False)"
   ]
  },
  {
   "cell_type": "code",
   "execution_count": 109,
   "id": "c8be0bac",
   "metadata": {},
   "outputs": [
    {
     "data": {
      "text/plain": [
       "MultinomialNB(fit_prior=False)"
      ]
     },
     "execution_count": 109,
     "metadata": {},
     "output_type": "execute_result"
    }
   ],
   "source": [
    "model.fit(X_train_tf,y_train)"
   ]
  },
  {
   "cell_type": "code",
   "execution_count": 110,
   "id": "3ae2a488",
   "metadata": {},
   "outputs": [],
   "source": [
    "y_pred_dev = model.predict(X_dev_tf)"
   ]
  },
  {
   "cell_type": "code",
   "execution_count": 111,
   "id": "6e4ef87a",
   "metadata": {},
   "outputs": [
    {
     "name": "stdout",
     "output_type": "stream",
     "text": [
      "              precision    recall  f1-score   support\n",
      "\n",
      "           1       0.36      0.49      0.41       211\n",
      "           2       0.40      0.42      0.41       170\n",
      "           3       0.10      0.06      0.08        77\n",
      "           4       0.38      0.35      0.36       104\n",
      "           5       0.42      0.42      0.42        97\n",
      "           6       0.28      0.28      0.28        87\n",
      "           7       0.35      0.23      0.28        96\n",
      "           8       0.37      0.33      0.35       158\n",
      "\n",
      "    accuracy                           0.36      1000\n",
      "   macro avg       0.33      0.32      0.32      1000\n",
      "weighted avg       0.35      0.36      0.35      1000\n",
      "\n"
     ]
    }
   ],
   "source": [
    "print(classification_report(y_dev, y_pred_dev))"
   ]
  },
  {
   "cell_type": "code",
   "execution_count": 112,
   "id": "b3a8651b",
   "metadata": {},
   "outputs": [
    {
     "data": {
      "image/png": "[encoded data removed]",
      "text/plain": [
       "<Figure size 432x288 with 2 Axes>"
      ]
     },
     "metadata": {
      "needs_background": "light"
     },
     "output_type": "display_data"
    }
   ],
   "source": [
    "CM = confusion_matrix(y_dev,y_pred_dev)\n",
    "target_names = ['1', '2','3','4','5','6','7','8']\n",
    "ax = plt.axes()\n",
    "sn.heatmap(CM, cmap='rocket_r',\n",
    "           annot=True, \n",
    "           fmt='d',\n",
    "           xticklabels=target_names, \n",
    "           yticklabels=target_names, ax = ax)\n",
    "ax.set_title('Confusion matrix')\n",
    "plt.show()"
   ]
  },
  {
   "cell_type": "markdown",
   "id": "677df466",
   "metadata": {},
   "source": [
    "### Test and Dev predictions "
   ]
  },
  {
   "cell_type": "markdown",
   "id": "82494ea9",
   "metadata": {},
   "source": [
    "#### Dev Dataset "
   ]
  },
  {
   "cell_type": "code",
   "execution_count": 126,
   "id": "73dbb76d",
   "metadata": {},
   "outputs": [
    {
     "data": {
      "text/html": [
       "<div>\n",
       "<style scoped>\n",
       "    .dataframe tbody tr th:only-of-type {\n",
       "        vertical-align: middle;\n",
       "    }\n",
       "\n",
       "    .dataframe tbody tr th {\n",
       "        vertical-align: top;\n",
       "    }\n",
       "\n",
       "    .dataframe thead th {\n",
       "        text-align: right;\n",
       "    }\n",
       "</style>\n",
       "<table border=\"1\" class=\"dataframe\">\n",
       "  <thead>\n",
       "    <tr style=\"text-align: right;\">\n",
       "      <th></th>\n",
       "      <th>sentence</th>\n",
       "      <th>emotion</th>\n",
       "    </tr>\n",
       "  </thead>\n",
       "  <tbody>\n",
       "    <tr>\n",
       "      <th>0</th>\n",
       "      <td>happens gold safe ?</td>\n",
       "      <td>4</td>\n",
       "    </tr>\n",
       "    <tr>\n",
       "      <th>1</th>\n",
       "      <td>natural get cold foot</td>\n",
       "      <td>4</td>\n",
       "    </tr>\n",
       "    <tr>\n",
       "      <th>2</th>\n",
       "      <td>lucky ?</td>\n",
       "      <td>5</td>\n",
       "    </tr>\n",
       "    <tr>\n",
       "      <th>3</th>\n",
       "      <td>little anxious get whoop et as</td>\n",
       "      <td>1</td>\n",
       "    </tr>\n",
       "    <tr>\n",
       "      <th>4</th>\n",
       "      <td>think know affair government official ?</td>\n",
       "      <td>1</td>\n",
       "    </tr>\n",
       "    <tr>\n",
       "      <th>...</th>\n",
       "      <td>...</td>\n",
       "      <td>...</td>\n",
       "    </tr>\n",
       "    <tr>\n",
       "      <th>995</th>\n",
       "      <td>ask careful</td>\n",
       "      <td>4</td>\n",
       "    </tr>\n",
       "    <tr>\n",
       "      <th>996</th>\n",
       "      <td>like jazz pal ?</td>\n",
       "      <td>8</td>\n",
       "    </tr>\n",
       "    <tr>\n",
       "      <th>997</th>\n",
       "      <td>put</td>\n",
       "      <td>1</td>\n",
       "    </tr>\n",
       "    <tr>\n",
       "      <th>998</th>\n",
       "      <td>ever imagine [person] spot like ?</td>\n",
       "      <td>7</td>\n",
       "    </tr>\n",
       "    <tr>\n",
       "      <th>999</th>\n",
       "      <td>think top gun able tell somebody following u ?</td>\n",
       "      <td>4</td>\n",
       "    </tr>\n",
       "  </tbody>\n",
       "</table>\n",
       "<p>1000 rows × 2 columns</p>\n",
       "</div>"
      ],
      "text/plain": [
       "                                           sentence  emotion\n",
       "0                               happens gold safe ?        4\n",
       "1                             natural get cold foot        4\n",
       "2                                           lucky ?        5\n",
       "3                    little anxious get whoop et as        1\n",
       "4           think know affair government official ?        1\n",
       "..                                              ...      ...\n",
       "995                                     ask careful        4\n",
       "996                                 like jazz pal ?        8\n",
       "997                                             put        1\n",
       "998               ever imagine [person] spot like ?        7\n",
       "999  think top gun able tell somebody following u ?        4\n",
       "\n",
       "[1000 rows x 2 columns]"
      ]
     },
     "execution_count": 126,
     "metadata": {},
     "output_type": "execute_result"
    }
   ],
   "source": [
    "Dev_prev = pd.concat([df_dev['sentence'],pd.DataFrame(y_pred_dev, columns = ['emotion'])],axis = 1)\n",
    "Dev_prev"
   ]
  },
  {
   "cell_type": "code",
   "execution_count": 128,
   "id": "19e1e91d",
   "metadata": {},
   "outputs": [],
   "source": [
    "Dev_prev.to_csv('dev_results.txt',sep= '\\t', index=False)"
   ]
  },
  {
   "cell_type": "markdown",
   "id": "c8d029b8",
   "metadata": {},
   "source": [
    "### Test "
   ]
  },
  {
   "cell_type": "code",
   "execution_count": 129,
   "id": "58d7a95b",
   "metadata": {},
   "outputs": [
    {
     "data": {
      "text/html": [
       "<div>\n",
       "<style scoped>\n",
       "    .dataframe tbody tr th:only-of-type {\n",
       "        vertical-align: middle;\n",
       "    }\n",
       "\n",
       "    .dataframe tbody tr th {\n",
       "        vertical-align: top;\n",
       "    }\n",
       "\n",
       "    .dataframe thead th {\n",
       "        text-align: right;\n",
       "    }\n",
       "</style>\n",
       "<table border=\"1\" class=\"dataframe\">\n",
       "  <thead>\n",
       "    <tr style=\"text-align: right;\">\n",
       "      <th></th>\n",
       "      <th>sentence</th>\n",
       "    </tr>\n",
       "  </thead>\n",
       "  <tbody>\n",
       "    <tr>\n",
       "      <th>0</th>\n",
       "      <td>Come , let's go get that automobile .</td>\n",
       "    </tr>\n",
       "    <tr>\n",
       "      <th>1</th>\n",
       "      <td>Well , some other time , then ?</td>\n",
       "    </tr>\n",
       "    <tr>\n",
       "      <th>2</th>\n",
       "      <td>He's in trouble . Boy ?</td>\n",
       "    </tr>\n",
       "    <tr>\n",
       "      <th>3</th>\n",
       "      <td>Criminal gang unit to take control .</td>\n",
       "    </tr>\n",
       "    <tr>\n",
       "      <th>4</th>\n",
       "      <td>By Molto . No discussion . Interview .</td>\n",
       "    </tr>\n",
       "  </tbody>\n",
       "</table>\n",
       "</div>"
      ],
      "text/plain": [
       "                                 sentence\n",
       "0   Come , let's go get that automobile .\n",
       "1         Well , some other time , then ?\n",
       "2                 He's in trouble . Boy ?\n",
       "3    Criminal gang unit to take control .\n",
       "4  By Molto . No discussion . Interview ."
      ]
     },
     "execution_count": 129,
     "metadata": {},
     "output_type": "execute_result"
    }
   ],
   "source": [
    "df_test = pd.read_csv('C:/Users/sarax/Desktop/tm/Project/test_set.txt', delimiter = \"\\t\")\n",
    "df_test.head()"
   ]
  },
  {
   "cell_type": "code",
   "execution_count": 130,
   "id": "2fe4d95b",
   "metadata": {},
   "outputs": [
    {
     "data": {
      "text/html": [
       "<div>\n",
       "<style scoped>\n",
       "    .dataframe tbody tr th:only-of-type {\n",
       "        vertical-align: middle;\n",
       "    }\n",
       "\n",
       "    .dataframe tbody tr th {\n",
       "        vertical-align: top;\n",
       "    }\n",
       "\n",
       "    .dataframe thead th {\n",
       "        text-align: right;\n",
       "    }\n",
       "</style>\n",
       "<table border=\"1\" class=\"dataframe\">\n",
       "  <thead>\n",
       "    <tr style=\"text-align: right;\">\n",
       "      <th></th>\n",
       "      <th>sentence</th>\n",
       "    </tr>\n",
       "  </thead>\n",
       "  <tbody>\n",
       "    <tr>\n",
       "      <th>0</th>\n",
       "      <td>come let go get automobile</td>\n",
       "    </tr>\n",
       "    <tr>\n",
       "      <th>1</th>\n",
       "      <td>well time ?</td>\n",
       "    </tr>\n",
       "    <tr>\n",
       "      <th>2</th>\n",
       "      <td>trouble boy ?</td>\n",
       "    </tr>\n",
       "    <tr>\n",
       "      <th>3</th>\n",
       "      <td>criminal gang unit take control</td>\n",
       "    </tr>\n",
       "    <tr>\n",
       "      <th>4</th>\n",
       "      <td>molto discussion interview</td>\n",
       "    </tr>\n",
       "    <tr>\n",
       "      <th>...</th>\n",
       "      <td>...</td>\n",
       "    </tr>\n",
       "    <tr>\n",
       "      <th>1995</th>\n",
       "      <td>let good</td>\n",
       "    </tr>\n",
       "    <tr>\n",
       "      <th>1996</th>\n",
       "      <td>hey looking good</td>\n",
       "    </tr>\n",
       "    <tr>\n",
       "      <th>1997</th>\n",
       "      <td>moved embassy hijacking ?</td>\n",
       "    </tr>\n",
       "    <tr>\n",
       "      <th>1998</th>\n",
       "      <td>!</td>\n",
       "    </tr>\n",
       "    <tr>\n",
       "      <th>1999</th>\n",
       "      <td>imagine interplanetary trade exciting would ?</td>\n",
       "    </tr>\n",
       "  </tbody>\n",
       "</table>\n",
       "<p>2000 rows × 1 columns</p>\n",
       "</div>"
      ],
      "text/plain": [
       "                                           sentence\n",
       "0                        come let go get automobile\n",
       "1                                       well time ?\n",
       "2                                     trouble boy ?\n",
       "3                   criminal gang unit take control\n",
       "4                        molto discussion interview\n",
       "...                                             ...\n",
       "1995                                       let good\n",
       "1996                               hey looking good\n",
       "1997                      moved embassy hijacking ?\n",
       "1998                                              !\n",
       "1999  imagine interplanetary trade exciting would ?\n",
       "\n",
       "[2000 rows x 1 columns]"
      ]
     },
     "execution_count": 130,
     "metadata": {},
     "output_type": "execute_result"
    }
   ],
   "source": [
    "test = pre_processing(df_test)\n",
    "test"
   ]
  },
  {
   "cell_type": "code",
   "execution_count": 131,
   "id": "2831496b",
   "metadata": {},
   "outputs": [],
   "source": [
    "X_train_tfidf = X_train.copy()\n",
    "X_test_tfidf = test['sentence'].copy()\n",
    "\n",
    "tfidf_vectorizer = TfidfVectorizer()\n",
    "\n",
    "X_train_tf = tfidf_vectorizer.fit_transform(X_train_tfidf) \n",
    "X_test_tf = tfidf_vectorizer.transform(X_test_tfidf)"
   ]
  },
  {
   "cell_type": "code",
   "execution_count": 132,
   "id": "e9ad891f",
   "metadata": {},
   "outputs": [],
   "source": [
    "model = MultinomialNB(fit_prior=False)"
   ]
  },
  {
   "cell_type": "code",
   "execution_count": 133,
   "id": "84279ef6",
   "metadata": {},
   "outputs": [
    {
     "data": {
      "text/plain": [
       "MultinomialNB(fit_prior=False)"
      ]
     },
     "execution_count": 133,
     "metadata": {},
     "output_type": "execute_result"
    }
   ],
   "source": [
    "model.fit(X_train_tf,y_train)"
   ]
  },
  {
   "cell_type": "code",
   "execution_count": 134,
   "id": "8ba1eadf",
   "metadata": {},
   "outputs": [],
   "source": [
    "y_pred_test = model.predict(X_test_tf)"
   ]
  },
  {
   "cell_type": "code",
   "execution_count": 135,
   "id": "93eed7ce",
   "metadata": {},
   "outputs": [
    {
     "data": {
      "text/plain": [
       "array([2, 1, 4, ..., 1, 1, 2], dtype=int64)"
      ]
     },
     "execution_count": 135,
     "metadata": {},
     "output_type": "execute_result"
    }
   ],
   "source": [
    "y_pred_test"
   ]
  },
  {
   "cell_type": "code",
   "execution_count": 136,
   "id": "994a2482",
   "metadata": {},
   "outputs": [
    {
     "data": {
      "text/html": [
       "<div>\n",
       "<style scoped>\n",
       "    .dataframe tbody tr th:only-of-type {\n",
       "        vertical-align: middle;\n",
       "    }\n",
       "\n",
       "    .dataframe tbody tr th {\n",
       "        vertical-align: top;\n",
       "    }\n",
       "\n",
       "    .dataframe thead th {\n",
       "        text-align: right;\n",
       "    }\n",
       "</style>\n",
       "<table border=\"1\" class=\"dataframe\">\n",
       "  <thead>\n",
       "    <tr style=\"text-align: right;\">\n",
       "      <th></th>\n",
       "      <th>sentence</th>\n",
       "      <th>emotion</th>\n",
       "    </tr>\n",
       "  </thead>\n",
       "  <tbody>\n",
       "    <tr>\n",
       "      <th>0</th>\n",
       "      <td>come let go get automobile</td>\n",
       "      <td>2</td>\n",
       "    </tr>\n",
       "    <tr>\n",
       "      <th>1</th>\n",
       "      <td>well time ?</td>\n",
       "      <td>1</td>\n",
       "    </tr>\n",
       "    <tr>\n",
       "      <th>2</th>\n",
       "      <td>trouble boy ?</td>\n",
       "      <td>4</td>\n",
       "    </tr>\n",
       "    <tr>\n",
       "      <th>3</th>\n",
       "      <td>criminal gang unit take control</td>\n",
       "      <td>8</td>\n",
       "    </tr>\n",
       "    <tr>\n",
       "      <th>4</th>\n",
       "      <td>molto discussion interview</td>\n",
       "      <td>7</td>\n",
       "    </tr>\n",
       "    <tr>\n",
       "      <th>...</th>\n",
       "      <td>...</td>\n",
       "      <td>...</td>\n",
       "    </tr>\n",
       "    <tr>\n",
       "      <th>1995</th>\n",
       "      <td>let good</td>\n",
       "      <td>2</td>\n",
       "    </tr>\n",
       "    <tr>\n",
       "      <th>1996</th>\n",
       "      <td>hey looking good</td>\n",
       "      <td>5</td>\n",
       "    </tr>\n",
       "    <tr>\n",
       "      <th>1997</th>\n",
       "      <td>moved embassy hijacking ?</td>\n",
       "      <td>1</td>\n",
       "    </tr>\n",
       "    <tr>\n",
       "      <th>1998</th>\n",
       "      <td>!</td>\n",
       "      <td>1</td>\n",
       "    </tr>\n",
       "    <tr>\n",
       "      <th>1999</th>\n",
       "      <td>imagine interplanetary trade exciting would ?</td>\n",
       "      <td>2</td>\n",
       "    </tr>\n",
       "  </tbody>\n",
       "</table>\n",
       "<p>2000 rows × 2 columns</p>\n",
       "</div>"
      ],
      "text/plain": [
       "                                           sentence  emotion\n",
       "0                        come let go get automobile        2\n",
       "1                                       well time ?        1\n",
       "2                                     trouble boy ?        4\n",
       "3                   criminal gang unit take control        8\n",
       "4                        molto discussion interview        7\n",
       "...                                             ...      ...\n",
       "1995                                       let good        2\n",
       "1996                               hey looking good        5\n",
       "1997                      moved embassy hijacking ?        1\n",
       "1998                                              !        1\n",
       "1999  imagine interplanetary trade exciting would ?        2\n",
       "\n",
       "[2000 rows x 2 columns]"
      ]
     },
     "execution_count": 136,
     "metadata": {},
     "output_type": "execute_result"
    }
   ],
   "source": [
    "Test_prev = pd.concat([df_test['sentence'],pd.DataFrame(y_pred_test, columns = ['emotion'])],axis = 1)\n",
    "Test_prev"
   ]
  },
  {
   "cell_type": "code",
   "execution_count": 137,
   "id": "4b9d412a",
   "metadata": {},
   "outputs": [],
   "source": [
    "Test_prev.to_csv('test_results.txt',sep= '\\t', index=False)"
   ]
  },
  {
   "cell_type": "code",
   "execution_count": null,
   "id": "9f7c19fb",
   "metadata": {},
   "outputs": [],
   "source": []
  }
 ],
 "metadata": {
  "kernelspec": {
   "display_name": "Python 3 (ipykernel)",
   "language": "python",
   "name": "python3"
  },
  "language_info": {
   "codemirror_mode": {
    "name": "ipython",
    "version": 3
   },
   "file_extension": ".py",
   "mimetype": "text/x-python",
   "name": "python",
   "nbconvert_exporter": "python",
   "pygments_lexer": "ipython3",
   "version": "3.9.7"
  }
 },
 "nbformat": 4,
 "nbformat_minor": 5
}
